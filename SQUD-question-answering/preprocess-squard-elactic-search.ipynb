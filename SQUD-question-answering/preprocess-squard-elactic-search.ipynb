{
 "cells": [
  {
   "attachments": {},
   "cell_type": "markdown",
   "id": "increasing-giving",
   "metadata": {},
   "source": [
    "# PreProcess SQUAD and save it in Elactic Search\n",
    "\n",
    "\n",
    "We will be communicating with our Elasticsearch document store via Haystack. First, we need to install Haystack using pip:\n",
    "\n",
    "\n",
    "\n",
    "```\n",
    "pip install farm-haystack\n",
    "```\n",
    "\n",
    "We will start by indexing the SQuAD dev data. So let's load that into our notebook first.\n",
    "\n"
   ]
  },
  {
   "cell_type": "code",
   "execution_count": 32,
   "id": "underlying-curtis",
   "metadata": {},
   "outputs": [],
   "source": [
    "import json\n",
    "\n",
    "with open('./data/squad/dev-v2.0.json', 'r') as f:\n",
    "    squad = json.load(f)"
   ]
  },
  {
   "cell_type": "code",
   "execution_count": 34,
   "id": "5734c1ea",
   "metadata": {},
   "outputs": [
    {
     "data": {
      "text/plain": [
       "{'qas': [{'question': 'In what country is Normandy located?',\n",
       "   'id': '56ddde6b9a695914005b9628',\n",
       "   'answers': [{'text': 'France', 'answer_start': 159},\n",
       "    {'text': 'France', 'answer_start': 159},\n",
       "    {'text': 'France', 'answer_start': 159},\n",
       "    {'text': 'France', 'answer_start': 159}],\n",
       "   'is_impossible': False},\n",
       "  {'question': 'When were the Normans in Normandy?',\n",
       "   'id': '56ddde6b9a695914005b9629',\n",
       "   'answers': [{'text': '10th and 11th centuries', 'answer_start': 94},\n",
       "    {'text': 'in the 10th and 11th centuries', 'answer_start': 87},\n",
       "    {'text': '10th and 11th centuries', 'answer_start': 94},\n",
       "    {'text': '10th and 11th centuries', 'answer_start': 94}],\n",
       "   'is_impossible': False},\n",
       "  {'question': 'From which countries did the Norse originate?',\n",
       "   'id': '56ddde6b9a695914005b962a',\n",
       "   'answers': [{'text': 'Denmark, Iceland and Norway', 'answer_start': 256},\n",
       "    {'text': 'Denmark, Iceland and Norway', 'answer_start': 256},\n",
       "    {'text': 'Denmark, Iceland and Norway', 'answer_start': 256},\n",
       "    {'text': 'Denmark, Iceland and Norway', 'answer_start': 256}],\n",
       "   'is_impossible': False},\n",
       "  {'question': 'Who was the Norse leader?',\n",
       "   'id': '56ddde6b9a695914005b962b',\n",
       "   'answers': [{'text': 'Rollo', 'answer_start': 308},\n",
       "    {'text': 'Rollo', 'answer_start': 308},\n",
       "    {'text': 'Rollo', 'answer_start': 308},\n",
       "    {'text': 'Rollo', 'answer_start': 308}],\n",
       "   'is_impossible': False},\n",
       "  {'question': 'What century did the Normans first gain their separate identity?',\n",
       "   'id': '56ddde6b9a695914005b962c',\n",
       "   'answers': [{'text': '10th century', 'answer_start': 671},\n",
       "    {'text': 'the first half of the 10th century', 'answer_start': 649},\n",
       "    {'text': '10th', 'answer_start': 671},\n",
       "    {'text': '10th', 'answer_start': 671}],\n",
       "   'is_impossible': False},\n",
       "  {'plausible_answers': [{'text': 'Normans', 'answer_start': 4}],\n",
       "   'question': \"Who gave their name to Normandy in the 1000's and 1100's\",\n",
       "   'id': '5ad39d53604f3c001a3fe8d1',\n",
       "   'answers': [],\n",
       "   'is_impossible': True},\n",
       "  {'plausible_answers': [{'text': 'Normandy', 'answer_start': 137}],\n",
       "   'question': 'What is France a region of?',\n",
       "   'id': '5ad39d53604f3c001a3fe8d2',\n",
       "   'answers': [],\n",
       "   'is_impossible': True},\n",
       "  {'plausible_answers': [{'text': 'Rollo', 'answer_start': 308}],\n",
       "   'question': 'Who did King Charles III swear fealty to?',\n",
       "   'id': '5ad39d53604f3c001a3fe8d3',\n",
       "   'answers': [],\n",
       "   'is_impossible': True},\n",
       "  {'plausible_answers': [{'text': '10th century', 'answer_start': 671}],\n",
       "   'question': 'When did the Frankish identity emerge?',\n",
       "   'id': '5ad39d53604f3c001a3fe8d4',\n",
       "   'answers': [],\n",
       "   'is_impossible': True}],\n",
       " 'context': 'The Normans (Norman: Nourmands; French: Normands; Latin: Normanni) were the people who in the 10th and 11th centuries gave their name to Normandy, a region in France. They were descended from Norse (\"Norman\" comes from \"Norseman\") raiders and pirates from Denmark, Iceland and Norway who, under their leader Rollo, agreed to swear fealty to King Charles III of West Francia. Through generations of assimilation and mixing with the native Frankish and Roman-Gaulish populations, their descendants would gradually merge with the Carolingian-based cultures of West Francia. The distinct cultural and ethnic identity of the Normans emerged initially in the first half of the 10th century, and it continued to evolve over the succeeding centuries.'}"
      ]
     },
     "execution_count": 34,
     "metadata": {},
     "output_type": "execute_result"
    }
   ],
   "source": [
    "squad['data'][0]['paragraphs'][0]"
   ]
  },
  {
   "cell_type": "code",
   "execution_count": 35,
   "id": "03fd670a",
   "metadata": {},
   "outputs": [
    {
     "data": {
      "text/plain": [
       "{'qas': [{'question': 'What concept did philosophers in antiquity use to study simple machines?',\n",
       "   'id': '573735e8c3c5551400e51e71',\n",
       "   'answers': [{'text': 'force', 'answer_start': 46},\n",
       "    {'text': 'force', 'answer_start': 46},\n",
       "    {'text': 'the concept of force', 'answer_start': 31},\n",
       "    {'text': 'the concept of force', 'answer_start': 31},\n",
       "    {'text': 'force', 'answer_start': 46},\n",
       "    {'text': 'force', 'answer_start': 46}],\n",
       "   'is_impossible': False},\n",
       "  {'question': 'What was the belief that maintaining motion required force?',\n",
       "   'id': '573735e8c3c5551400e51e72',\n",
       "   'answers': [{'text': 'fundamental error', 'answer_start': 387},\n",
       "    {'text': 'A fundamental error', 'answer_start': 385},\n",
       "    {'text': 'A fundamental error', 'answer_start': 385},\n",
       "    {'text': 'A fundamental error', 'answer_start': 385},\n",
       "    {'text': 'A fundamental error', 'answer_start': 385},\n",
       "    {'text': 'A fundamental error', 'answer_start': 385}],\n",
       "   'is_impossible': False},\n",
       "  {'question': 'Who had mathmatical insite?',\n",
       "   'id': '573735e8c3c5551400e51e73',\n",
       "   'answers': [{'text': 'Sir Isaac Newton', 'answer_start': 654},\n",
       "    {'text': 'Sir Isaac Newton', 'answer_start': 654},\n",
       "    {'text': 'Sir Isaac Newton', 'answer_start': 654},\n",
       "    {'text': 'Sir Isaac Newton', 'answer_start': 654},\n",
       "    {'text': 'Sir Isaac Newton', 'answer_start': 654},\n",
       "    {'text': 'Sir Isaac Newton', 'answer_start': 654}],\n",
       "   'is_impossible': False},\n",
       "  {'question': \"How long did it take to improve on Sir Isaac Newton's laws of motion?\",\n",
       "   'id': '573735e8c3c5551400e51e74',\n",
       "   'answers': [{'text': 'nearly three hundred years', 'answer_start': 727},\n",
       "    {'text': 'nearly three hundred years', 'answer_start': 727},\n",
       "    {'text': 'nearly three hundred years', 'answer_start': 727},\n",
       "    {'text': 'nearly three hundred years', 'answer_start': 727},\n",
       "    {'text': 'nearly three hundred years', 'answer_start': 727},\n",
       "    {'text': 'three hundred years', 'answer_start': 734}],\n",
       "   'is_impossible': False},\n",
       "  {'question': 'Who develped the theory of relativity?',\n",
       "   'id': '573735e8c3c5551400e51e75',\n",
       "   'answers': [{'text': 'Einstein', 'answer_start': 782},\n",
       "    {'text': 'Einstein', 'answer_start': 782},\n",
       "    {'text': 'Einstein', 'answer_start': 782},\n",
       "    {'text': 'Einstein', 'answer_start': 782},\n",
       "    {'text': 'Einstein', 'answer_start': 782},\n",
       "    {'text': 'Einstein', 'answer_start': 782}],\n",
       "   'is_impossible': False},\n",
       "  {'plausible_answers': [{'text': 'Philosophers', 'answer_start': 0}],\n",
       "   'question': 'Who used the concept of antiquity in the study of stationary and moving objects?',\n",
       "   'id': '5ad25efad7d075001a428f56',\n",
       "   'answers': [],\n",
       "   'is_impossible': True},\n",
       "  {'plausible_answers': [{'text': 'motion', 'answer_start': 377}],\n",
       "   'question': 'Something that is considered a non fundamental error is the belief that a force is required to maintain what?',\n",
       "   'id': '5ad25efad7d075001a428f57',\n",
       "   'answers': [],\n",
       "   'is_impossible': True},\n",
       "  {'plausible_answers': [{'text': 'Galileo Galilei and Sir Isaac Newton',\n",
       "     'answer_start': 585}],\n",
       "   'question': 'Most of the previous understandings about motion and force were corrected by whom?',\n",
       "   'id': '5ad25efad7d075001a428f58',\n",
       "   'answers': [],\n",
       "   'is_impossible': True},\n",
       "  {'plausible_answers': [{'text': 'motion and force', 'answer_start': 539}],\n",
       "   'question': 'Sir Galileo Galilei corrected the previous misunderstandings about what?',\n",
       "   'id': '5ad25efad7d075001a428f59',\n",
       "   'answers': [],\n",
       "   'is_impossible': True},\n",
       "  {'plausible_answers': [{'text': 'Sir Isaac Newton', 'answer_start': 654}],\n",
       "   'question': 'Who formulated the laws of motion that were not improved-on for nearly three thousand years?',\n",
       "   'id': '5ad25efad7d075001a428f5a',\n",
       "   'answers': [],\n",
       "   'is_impossible': True}],\n",
       " 'context': 'Philosophers in antiquity used the concept of force in the study of stationary and moving objects and simple machines, but thinkers such as Aristotle and Archimedes retained fundamental errors in understanding force. In part this was due to an incomplete understanding of the sometimes non-obvious force of friction, and a consequently inadequate view of the nature of natural motion. A fundamental error was the belief that a force is required to maintain motion, even at a constant velocity. Most of the previous misunderstandings about motion and force were eventually corrected by Galileo Galilei and Sir Isaac Newton. With his mathematical insight, Sir Isaac Newton formulated laws of motion that were not improved-on for nearly three hundred years. By the early 20th century, Einstein developed a theory of relativity that correctly predicted the action of forces on objects with increasing momenta near the speed of light, and also provided insight into the forces produced by gravitation and inertia.'}"
      ]
     },
     "execution_count": 35,
     "metadata": {},
     "output_type": "execute_result"
    }
   ],
   "source": [
    "squad['data'][-1]['paragraphs'][0]"
   ]
  },
  {
   "attachments": {},
   "cell_type": "markdown",
   "id": "8321eec3",
   "metadata": {},
   "source": [
    "We can see that both 'answers' and 'plausible_answers' fields appear in this dataset. However this time, we can see multiple answers that seem to be duplicates - so we'll need to adjust our logic to deal with that.\n",
    "\n"
   ]
  },
  {
   "attachments": {},
   "cell_type": "markdown",
   "id": "d5890c96",
   "metadata": {},
   "source": [
    "We'll try and produce the  format  where we have a list of dictionaries where each dictionary contains a single question, answer, and context."
   ]
  },
  {
   "cell_type": "code",
   "execution_count": 36,
   "id": "031daeb5",
   "metadata": {},
   "outputs": [],
   "source": [
    "# initialize list where we will place all of our data\n",
    "new_squad = []\n",
    "\n",
    "# we need to loop through groups -> paragraphs -> qa_pairs\n",
    "for group in squad['data']:\n",
    "    for paragraph in group['paragraphs']:\n",
    "        # we pull out the context from here\n",
    "        context = paragraph['context']\n",
    "        for qa_pair in paragraph['qas']:\n",
    "            # we pull out the question\n",
    "            question = qa_pair['question']\n",
    "            # now the logic to check if we have 'answers' or 'plausible_answers'\n",
    "            if 'answers' in qa_pair.keys() and len(qa_pair['answers']) > 0:\n",
    "                answer_list = qa_pair['answers']\n",
    "            elif 'plausible_answers' in qa_pair.keys() and len(qa_pair['plausible_answers']) > 0:\n",
    "                answer_list = qa_pair['plausible_answers']\n",
    "            else:\n",
    "                # this shouldn't happen, but just in case we just set answer = []\n",
    "                answer_list = []\n",
    "            # we want to pull our the 'text' of each answer in our list of answers\n",
    "            answer_list = [item['text'] for item in answer_list]\n",
    "            # we can remove duplicate answers by converting our list to a set, and then back to a list\n",
    "            answer_list = list(set(answer_list))\n",
    "            # we iterate through each unique answer in the answer_list\n",
    "            for answer in answer_list:\n",
    "                # append dictionary sample to parsed squad\n",
    "                new_squad.append({\n",
    "                    'question': question,\n",
    "                    'answer': answer,\n",
    "                    'context': context\n",
    "                })"
   ]
  },
  {
   "cell_type": "code",
   "execution_count": 37,
   "id": "cb8a1f68",
   "metadata": {},
   "outputs": [
    {
     "data": {
      "text/plain": [
       "[{'question': 'What force leads to a commonly used unit of mass?',\n",
       "  'answer': 'kilogram-force',\n",
       "  'context': 'The pound-force has a metric counterpart, less commonly used than the newton: the kilogram-force (kgf) (sometimes kilopond), is the force exerted by standard gravity on one kilogram of mass. The kilogram-force leads to an alternate, but rarely used unit of mass: the metric slug (sometimes mug or hyl) is that mass that accelerates at 1 m·s−2 when subjected to a force of 1 kgf. The kilogram-force is not a part of the modern SI system, and is generally deprecated; however it still sees use for some purposes as expressing aircraft weight, jet thrust, bicycle spoke tension, torque wrench settings and engine output torque. Other arcane units of force include the sthène, which is equivalent to 1000 N, and the kip, which is equivalent to 1000 lbf.'},\n",
       " {'question': 'What force is part of the modern SI system?',\n",
       "  'answer': 'kilogram-force',\n",
       "  'context': 'The pound-force has a metric counterpart, less commonly used than the newton: the kilogram-force (kgf) (sometimes kilopond), is the force exerted by standard gravity on one kilogram of mass. The kilogram-force leads to an alternate, but rarely used unit of mass: the metric slug (sometimes mug or hyl) is that mass that accelerates at 1 m·s−2 when subjected to a force of 1 kgf. The kilogram-force is not a part of the modern SI system, and is generally deprecated; however it still sees use for some purposes as expressing aircraft weight, jet thrust, bicycle spoke tension, torque wrench settings and engine output torque. Other arcane units of force include the sthène, which is equivalent to 1000 N, and the kip, which is equivalent to 1000 lbf.'}]"
      ]
     },
     "execution_count": 37,
     "metadata": {},
     "output_type": "execute_result"
    }
   ],
   "source": [
    "new_squad[-2:]"
   ]
  },
  {
   "cell_type": "code",
   "execution_count": 38,
   "id": "f526c2e7",
   "metadata": {},
   "outputs": [],
   "source": [
    "import os\n",
    "with open(os.path.join(\"./data/squad/\", 'dev.json'), 'w') as f:\n",
    "    json.dump(new_squad, f)"
   ]
  },
  {
   "cell_type": "code",
   "execution_count": 39,
   "id": "eeb60304",
   "metadata": {},
   "outputs": [],
   "source": [
    "import json\n",
    "\n",
    "with open('./data/squad/dev.json', 'r') as f:\n",
    "    squad = json.load(f)"
   ]
  },
  {
   "cell_type": "markdown",
   "id": "following-medication",
   "metadata": {},
   "source": [
    "Next, we initialize a connection between Haystack and our local Elasticsearch instance like so:"
   ]
  },
  {
   "cell_type": "code",
   "execution_count": 40,
   "id": "convertible-benjamin",
   "metadata": {},
   "outputs": [
    {
     "name": "stderr",
     "output_type": "stream",
     "text": [
      "/Users/bpakra200/opt/anaconda3/envs/drexel/lib/python3.10/site-packages/elasticsearch/connection/base.py:200: ElasticsearchWarning: Elasticsearch built-in security features are not enabled. Without authentication, your cluster could be accessible to anyone. See https://www.elastic.co/guide/en/elasticsearch/reference/7.17/security-minimal-setup.html to enable security.\n",
      "  warnings.warn(message, category=ElasticsearchWarning)\n"
     ]
    }
   ],
   "source": [
    "from haystack.document_stores.elasticsearch import ElasticsearchDocumentStore\n",
    "\n",
    "document_store = ElasticsearchDocumentStore(host='localhost', username='', password='', index='squad_docs')"
   ]
  },
  {
   "cell_type": "markdown",
   "id": "baking-samoa",
   "metadata": {},
   "source": [
    "Great, we've established our connection, now let's try querying our Elasticsearch instance. We will do this through the `requests` library."
   ]
  },
  {
   "cell_type": "code",
   "execution_count": 41,
   "id": "bearing-tuesday",
   "metadata": {},
   "outputs": [],
   "source": [
    "import requests"
   ]
  },
  {
   "cell_type": "markdown",
   "id": "mexican-board",
   "metadata": {},
   "source": [
    "Let's check our cluster *health* (eg the general status of our Elasticsearch instance). We do this by sending a **GET** request to the `_cluster/health` endpoint."
   ]
  },
  {
   "cell_type": "code",
   "execution_count": 42,
   "id": "modular-learning",
   "metadata": {},
   "outputs": [
    {
     "data": {
      "text/plain": [
       "{'cluster_name': 'elasticsearch',\n",
       " 'status': 'yellow',\n",
       " 'timed_out': False,\n",
       " 'number_of_nodes': 1,\n",
       " 'number_of_data_nodes': 1,\n",
       " 'active_primary_shards': 6,\n",
       " 'active_shards': 6,\n",
       " 'relocating_shards': 0,\n",
       " 'initializing_shards': 0,\n",
       " 'unassigned_shards': 3,\n",
       " 'delayed_unassigned_shards': 0,\n",
       " 'number_of_pending_tasks': 0,\n",
       " 'number_of_in_flight_fetch': 0,\n",
       " 'task_max_waiting_in_queue_millis': 0,\n",
       " 'active_shards_percent_as_number': 66.66666666666666}"
      ]
     },
     "execution_count": 42,
     "metadata": {},
     "output_type": "execute_result"
    }
   ],
   "source": [
    "res = requests.get('http://localhost:9200/_cluster/health')\n",
    "\n",
    "res.json()"
   ]
  },
  {
   "attachments": {},
   "cell_type": "markdown",
   "id": "musical-vault",
   "metadata": {},
   "source": [
    "Okay we can see that the cluster is definitely running. The cluster status is *yellow*, ideally we want to aim for *green* but the reason we see yellow here is because not all replica shards have been allocated to nodes. \n",
    "## Adding Data\n",
    "\n",
    "Right now our Elasticsearch instance contains a single, empty index called *'squad_docs'*. We need to populate this with our `squad` data. We populate our index through the `document_store.write_documents(<input_data>)` method, where our *\\<input_data\\>* must be a list of dictionaries in the format:\n",
    "\n",
    "```json\n",
    "{\n",
    "    'content': '<document text here>',\n",
    "    'meta': {\n",
    "        'other': '<other info here>'\n",
    "    }\n",
    "}\n",
    "```\n",
    "\n",
    "We **must** include the `'content'` key. The *content* must contain the text from each sample, which in our case is a *context* string. The `'meta'` data is optional, but is usually used to contain anything else that might be relevant, so for example we might want to include the *group* that the context came from (eg 'Beyonce', or 'Matter')."
   ]
  },
  {
   "cell_type": "code",
   "execution_count": 44,
   "id": "renewable-chester",
   "metadata": {},
   "outputs": [],
   "source": [
    "squad_docs = []\n",
    "\n",
    "for sample in squad:\n",
    "    squad_docs.append({\n",
    "        'content': sample['context']\n",
    "    })"
   ]
  },
  {
   "cell_type": "code",
   "execution_count": 43,
   "id": "11ceb7fb",
   "metadata": {},
   "outputs": [
    {
     "data": {
      "text/plain": [
       "16209"
      ]
     },
     "execution_count": 43,
     "metadata": {},
     "output_type": "execute_result"
    }
   ],
   "source": [
    "len(squad_docs)"
   ]
  },
  {
   "cell_type": "markdown",
   "id": "human-burton",
   "metadata": {},
   "source": [
    "Then we add our data to the index like this:"
   ]
  },
  {
   "cell_type": "code",
   "execution_count": 45,
   "id": "vocational-shirt",
   "metadata": {},
   "outputs": [],
   "source": [
    "document_store.write_documents(squad_docs)"
   ]
  },
  {
   "cell_type": "code",
   "execution_count": 46,
   "id": "532d4336",
   "metadata": {},
   "outputs": [
    {
     "data": {
      "text/plain": [
       "16209"
      ]
     },
     "execution_count": 46,
     "metadata": {},
     "output_type": "execute_result"
    }
   ],
   "source": [
    "len(squad_docs)"
   ]
  },
  {
   "cell_type": "code",
   "execution_count": 47,
   "id": "5195b73b",
   "metadata": {},
   "outputs": [
    {
     "data": {
      "text/plain": [
       "{'count': 1204,\n",
       " '_shards': {'total': 1, 'successful': 1, 'skipped': 0, 'failed': 0}}"
      ]
     },
     "execution_count": 47,
     "metadata": {},
     "output_type": "execute_result"
    }
   ],
   "source": [
    "requests.get('http://localhost:9200/squad_docs/_count').json()"
   ]
  },
  {
   "cell_type": "code",
   "execution_count": 48,
   "id": "5ee7791d",
   "metadata": {},
   "outputs": [],
   "source": [
    "results = document_store.get_all_documents()"
   ]
  },
  {
   "cell_type": "code",
   "execution_count": 49,
   "id": "37fd6c8f",
   "metadata": {},
   "outputs": [
    {
     "name": "stdout",
     "output_type": "stream",
     "text": [
      "<Document: id=3d2dc0db304889bea0275affd31585ee, content='The pound-force has a metric counterpart, less commonly used than the newton: the kilogram-force (kg...'>\n"
     ]
    }
   ],
   "source": [
    "len(results)\n",
    "print(results[-1])"
   ]
  },
  {
   "cell_type": "markdown",
   "id": "north-quest",
   "metadata": {},
   "source": [
    "When we're retrieving data from Elasticsearch we will be retrieving documents using either the TF-IDF, or BM25 algorithms.\n",
    "\n",
    "**TF-IDF** is a common *relevance* scoring algorithm, the built is calculated using:\n",
    "\n",
    "* **TF**, the volume of words in the query (question) that appear in the document.\n",
    "\n",
    "* **IDF**, the inverse of the fraction of documents that contain the same word (eg common words like *'the'* don't score well, whereas *'Beyonce'* would).\n",
    "\n",
    "We integrate TD-IDF using:"
   ]
  },
  {
   "cell_type": "code",
   "execution_count": 50,
   "id": "minute-offer",
   "metadata": {},
   "outputs": [
    {
     "name": "stderr",
     "output_type": "stream",
     "text": [
      "/Users/bpakra200/opt/anaconda3/envs/drexel/lib/python3.10/site-packages/elasticsearch/connection/base.py:200: ElasticsearchWarning: Elasticsearch built-in security features are not enabled. Without authentication, your cluster could be accessible to anyone. See https://www.elastic.co/guide/en/elasticsearch/reference/7.17/security-minimal-setup.html to enable security.\n",
      "  warnings.warn(message, category=ElasticsearchWarning)\n"
     ]
    }
   ],
   "source": [
    "from haystack.nodes import TfidfRetriever\n",
    "\n",
    "retriever = TfidfRetriever(document_store)"
   ]
  },
  {
   "cell_type": "markdown",
   "id": "careful-trainer",
   "metadata": {},
   "source": [
    "We can see here that when building our retriever, it identified a total of *16209* 'candidate paragraphs'. These are all of the contexts from our `squad` data:"
   ]
  },
  {
   "cell_type": "code",
   "execution_count": 51,
   "id": "passive-overview",
   "metadata": {},
   "outputs": [
    {
     "data": {
      "text/plain": [
       "16209"
      ]
     },
     "execution_count": 51,
     "metadata": {},
     "output_type": "execute_result"
    }
   ],
   "source": [
    "len(squad)"
   ]
  },
  {
   "cell_type": "markdown",
   "id": "operating-tender",
   "metadata": {},
   "source": [
    "For now, we can return data from Elasticsearch, using the **TF-IDF** algorithm, with the `retrieve` method."
   ]
  },
  {
   "cell_type": "code",
   "execution_count": 52,
   "id": "complex-peripheral",
   "metadata": {},
   "outputs": [
    {
     "data": {
      "text/plain": [
       "[<Document: {'content': 'Even though some proofs of complexity-theoretic theorems regularly assume some concrete choice of input encoding, one tries to keep the discussion abstract enough to be independent of the choice of encoding. This can be achieved by ensuring that different representations can be transformed into each other efficiently.', 'content_type': 'text', 'score': None, 'meta': {}, 'id_hash_keys': ['content'], 'embedding': None, 'id': 'fdafa6182e072da1f6005c49f858c175'}>,\n",
       " <Document: {'content': 'With modern insights into quantum mechanics and technology that can accelerate particles close to the speed of light, particle physics has devised a Standard Model to describe forces between particles smaller than atoms. The Standard Model predicts that exchanged particles called gauge bosons are the fundamental means by which forces are emitted and absorbed. Only four main interactions are known: in order of decreasing strength, they are: strong, electromagnetic, weak, and gravitational.:2–10:79 High-energy particle physics observations made during the 1970s and 1980s confirmed that the weak and electromagnetic forces are expressions of a more fundamental electroweak interaction.', 'content_type': 'text', 'score': None, 'meta': {}, 'id_hash_keys': ['content'], 'embedding': None, 'id': '828c018bed6be4ea72243b7af5130cb8'}>,\n",
       " <Document: {'content': 'Subject Committees are established at the beginning of each parliamentary session, and again the members on each committee reflect the balance of parties across Parliament. Typically each committee corresponds with one (or more) of the departments (or ministries) of the Scottish Government. The current Subject Committees in the fourth Session are: Economy, Energy and Tourism; Education and Culture; Health and Sport; Justice; Local Government and Regeneration; Rural Affairs, Climate Change and Environment; Welfare Reform; and Infrastructure and Capital Investment.', 'content_type': 'text', 'score': None, 'meta': {}, 'id_hash_keys': ['content'], 'embedding': None, 'id': 'c11276654d094f408ab71779b84a2a21'}>,\n",
       " <Document: {'content': 'A computational problem can be viewed as an infinite collection of instances together with a solution for every instance. The input string for a computational problem is referred to as a problem instance, and should not be confused with the problem itself. In computational complexity theory, a problem refers to the abstract question to be solved. In contrast, an instance of this problem is a rather concrete utterance, which can serve as the input for a decision problem. For example, consider the problem of primality testing. The instance is a number (e.g. 15) and the solution is \"yes\" if the number is prime and \"no\" otherwise (in this case \"no\"). Stated another way, the instance is a particular input to the problem, and the solution is the output corresponding to the given input.', 'content_type': 'text', 'score': None, 'meta': {}, 'id_hash_keys': ['content'], 'embedding': None, 'id': '6475dc896c098df79cbbe73c2f4b183d'}>,\n",
       " <Document: {'content': 'However, some computational problems are easier to analyze in terms of more unusual resources. For example, a non-deterministic Turing machine is a computational model that is allowed to branch out to check many different possibilities at once. The non-deterministic Turing machine has very little to do with how we physically want to compute algorithms, but its branching exactly captures many of the mathematical models we want to analyze, so that non-deterministic time is a very important resource in analyzing computational problems.', 'content_type': 'text', 'score': None, 'meta': {}, 'id_hash_keys': ['content'], 'embedding': None, 'id': '41356176d5b1625db5fea90286c3cf'}>,\n",
       " <Document: {'content': 'The notion \"force\" keeps its meaning in quantum mechanics, though one is now dealing with operators instead of classical variables and though the physics is now described by the Schrödinger equation instead of Newtonian equations. This has the consequence that the results of a measurement are now sometimes \"quantized\", i.e. they appear in discrete portions. This is, of course, difficult to imagine in the context of \"forces\". However, the potentials V(x,y,z) or fields, from which the forces generally can be derived, are treated similar to classical position variables, i.e., .', 'content_type': 'text', 'score': None, 'meta': {}, 'id_hash_keys': ['content'], 'embedding': None, 'id': 'cac0630683bf55c6f3a0968e92e79710'}>,\n",
       " <Document: {'content': 'The development of fundamental theories for forces proceeded along the lines of unification of disparate ideas. For example, Isaac Newton unified the force responsible for objects falling at the surface of the Earth with the force responsible for the orbits of celestial mechanics in his universal theory of gravitation. Michael Faraday and James Clerk Maxwell demonstrated that electric and magnetic forces were unified through one consistent theory of electromagnetism. In the 20th century, the development of quantum mechanics led to a modern understanding that the first three fundamental forces (all except gravity) are manifestations of matter (fermions) interacting by exchanging virtual particles called gauge bosons. This standard model of particle physics posits a similarity between the forces and led scientists to predict the unification of the weak and electromagnetic forces in electroweak theory subsequently confirmed by observation. The complete formulation of the standard model predicts an as yet unobserved Higgs mechanism, but observations such as neutrino oscillations indicate that the standard model is incomplete. A Grand Unified Theory allowing for the combination of the electroweak interaction with the strong force is held out as a possibility with candidate theories such as supersymmetry proposed to accommodate some of the outstanding unsolved problems in physics. Physicists are still attempting to develop self-consistent unification models that would combine all four fundamental interactions into a theory of everything. Einstein tried and failed at this endeavor, but currently the most popular approach to answering this question is string theory.:212–219', 'content_type': 'text', 'score': None, 'meta': {}, 'id_hash_keys': ['content'], 'embedding': None, 'id': 'd75f0925dca88d80bc176c8e6ac99de'}>,\n",
       " <Document: {'content': \"Trioxygen (O\\n3) is usually known as ozone and is a very reactive allotrope of oxygen that is damaging to lung tissue. Ozone is produced in the upper atmosphere when O\\n2 combines with atomic oxygen made by the splitting of O\\n2 by ultraviolet (UV) radiation. Since ozone absorbs strongly in the UV region of the spectrum, the ozone layer of the upper atmosphere functions as a protective radiation shield for the planet. Near the Earth's surface, it is a pollutant formed as a by-product of automobile exhaust. The metastable molecule tetraoxygen (O\\n4) was discovered in 2001, and was assumed to exist in one of the six phases of solid oxygen. It was proven in 2006 that this phase, created by pressurizing O\\n2 to 20 GPa, is in fact a rhombohedral O\\n8 cluster. This cluster has the potential to be a much more powerful oxidizer than either O\\n2 or O\\n3 and may therefore be used in rocket fuel. A metallic phase was discovered in 1990 when solid oxygen is subjected to a pressure of above 96 GPa and it was shown in 1998 that at very low temperatures, this phase becomes superconducting.\", 'content_type': 'text', 'score': None, 'meta': {}, 'id_hash_keys': ['content'], 'embedding': None, 'id': '5d1e17240677586a41b878993c195cd8'}>,\n",
       " <Document: {'content': \"Newton's Second Law asserts the direct proportionality of acceleration to force and the inverse proportionality of acceleration to mass. Accelerations can be defined through kinematic measurements. However, while kinematics are well-described through reference frame analysis in advanced physics, there are still deep questions that remain as to what is the proper definition of mass. General relativity offers an equivalence between space-time and mass, but lacking a coherent theory of quantum gravity, it is unclear as to how or whether this connection is relevant on microscales. With some justification, Newton's second law can be taken as a quantitative definition of mass by writing the law as an equality; the relative units of force and mass then are fixed.\", 'content_type': 'text', 'score': None, 'meta': {}, 'id_hash_keys': ['content'], 'embedding': None, 'id': '979ba4d49a5db02ba94de24fbb62a4d6'}>,\n",
       " <Document: {'content': 'A deterministic Turing machine is the most basic Turing machine, which uses a fixed set of rules to determine its future actions. A probabilistic Turing machine is a deterministic Turing machine with an extra supply of random bits. The ability to make probabilistic decisions often helps algorithms solve problems more efficiently. Algorithms that use random bits are called randomized algorithms. A non-deterministic Turing machine is a deterministic Turing machine with an added feature of non-determinism, which allows a Turing machine to have multiple possible future actions from a given state. One way to view non-determinism is that the Turing machine branches into many possible computational paths at each step, and if it solves the problem in any of these branches, it is said to have solved the problem. Clearly, this model is not meant to be a physically realizable model, it is just a theoretically interesting abstract machine that gives rise to particularly interesting complexity classes. For examples, see non-deterministic algorithm.', 'content_type': 'text', 'score': None, 'meta': {}, 'id_hash_keys': ['content'], 'embedding': None, 'id': '7548b7fce7050990a134ce44445026ce'}>]"
      ]
     },
     "execution_count": 52,
     "metadata": {},
     "output_type": "execute_result"
    }
   ],
   "source": [
    "query = \"Physics is a very abstract subject\"\n",
    "\n",
    "retriever.retrieve(query)"
   ]
  },
  {
   "cell_type": "markdown",
   "id": "living-concentration",
   "metadata": {},
   "source": [
    "This query returns a huge number of duplicates. The reason we have these is because our data contained duplicates of the same context because each context could be tied to several different questions. So now, we need to restart by first deleting everything inside our *squad_docs* index. Then re-indexing our deduplicated data.\n",
    "\n",
    "We can delete every document in our index by sending a **POST** request to the `<index_name>/_delete_by_query` endpoint:"
   ]
  },
  {
   "cell_type": "code",
   "execution_count": 53,
   "id": "stable-struggle",
   "metadata": {},
   "outputs": [
    {
     "data": {
      "text/plain": [
       "{'took': 450,\n",
       " 'timed_out': False,\n",
       " 'total': 1204,\n",
       " 'deleted': 1204,\n",
       " 'batches': 2,\n",
       " 'version_conflicts': 0,\n",
       " 'noops': 0,\n",
       " 'retries': {'bulk': 0, 'search': 0},\n",
       " 'throttled_millis': 0,\n",
       " 'requests_per_second': -1.0,\n",
       " 'throttled_until_millis': 0,\n",
       " 'failures': []}"
      ]
     },
     "execution_count": 53,
     "metadata": {},
     "output_type": "execute_result"
    }
   ],
   "source": [
    "res = requests.post('http://localhost:9200/squad_docs/_delete_by_query',\n",
    "                    json={\n",
    "                        'query': {\n",
    "                            'match_all': {}\n",
    "                        }\n",
    "                    })\n",
    "\n",
    "res.json()"
   ]
  },
  {
   "cell_type": "markdown",
   "id": "durable-basis",
   "metadata": {},
   "source": [
    "Our response shows `'deleted': 16209`, which means all *16209* documents have been deleted from our *squad_docs* index. We can confirm this by calling the `<index_name>/_count` endpoint too:"
   ]
  },
  {
   "cell_type": "code",
   "execution_count": 54,
   "id": "coordinated-worthy",
   "metadata": {},
   "outputs": [
    {
     "data": {
      "text/plain": [
       "{'count': 0,\n",
       " '_shards': {'total': 1, 'successful': 1, 'skipped': 0, 'failed': 0}}"
      ]
     },
     "execution_count": 54,
     "metadata": {},
     "output_type": "execute_result"
    }
   ],
   "source": [
    "res = requests.get('http://localhost:9200/squad_docs/_count')\n",
    "\n",
    "res.json()"
   ]
  },
  {
   "cell_type": "markdown",
   "id": "velvet-financing",
   "metadata": {},
   "source": [
    "Now that we've cleared the index, it's time to remove duplicates from our SQuAD contexts and re-index them."
   ]
  },
  {
   "cell_type": "code",
   "execution_count": 55,
   "id": "legislative-rescue",
   "metadata": {},
   "outputs": [],
   "source": [
    "# create list of contexts (we cannot do this using current dictionary format)\n",
    "contexts = [sample['context'] for sample in squad]\n",
    "\n",
    "# convert to set to remove duplicates, then back to list\n",
    "contexts = list(set(contexts))\n",
    "\n",
    "# convert back to dictionary format we need\n",
    "squad_docs = [{'content': sample} for sample in contexts]"
   ]
  },
  {
   "cell_type": "code",
   "execution_count": 56,
   "id": "6f353a6d",
   "metadata": {},
   "outputs": [
    {
     "data": {
      "text/plain": [
       "1204"
      ]
     },
     "execution_count": 56,
     "metadata": {},
     "output_type": "execute_result"
    }
   ],
   "source": [
    "len(squad_docs)"
   ]
  },
  {
   "cell_type": "code",
   "execution_count": 67,
   "id": "0ac35c7c",
   "metadata": {},
   "outputs": [
    {
     "data": {
      "text/plain": [
       "{'content': \"Moderate and reformist Islamists who accept and work within the democratic process include parties like the Tunisian Ennahda Movement. Jamaat-e-Islami of Pakistan is basically a socio-political and democratic Vanguard party but has also gained political influence through military coup d'état in past. The Islamist groups like Hezbollah in Lebanon and Hamas in Palestine participate in democratic and political process as well as armed attacks, seeking to abolish the state of Israel. Radical Islamist organizations like al-Qaeda and the Egyptian Islamic Jihad, and groups such as the Taliban, entirely reject democracy, often declaring as kuffar those Muslims who support it (see takfirism), as well as calling for violent/offensive jihad or urging and conducting attacks on a religious basis.\"}"
      ]
     },
     "execution_count": 67,
     "metadata": {},
     "output_type": "execute_result"
    }
   ],
   "source": [
    "squad_docs[-1]\n"
   ]
  },
  {
   "cell_type": "markdown",
   "id": "light-embassy",
   "metadata": {},
   "source": [
    "Finally, we can re-index our Elasticsearch as we did before."
   ]
  },
  {
   "cell_type": "code",
   "execution_count": 57,
   "id": "competitive-potter",
   "metadata": {},
   "outputs": [
    {
     "name": "stderr",
     "output_type": "stream",
     "text": [
      "/Users/bpakra200/opt/anaconda3/envs/drexel/lib/python3.10/site-packages/elasticsearch/connection/base.py:200: ElasticsearchWarning: Elasticsearch built-in security features are not enabled. Without authentication, your cluster could be accessible to anyone. See https://www.elastic.co/guide/en/elasticsearch/reference/7.17/security-minimal-setup.html to enable security.\n",
      "  warnings.warn(message, category=ElasticsearchWarning)\n"
     ]
    }
   ],
   "source": [
    "document_store.write_documents(squad_docs)"
   ]
  },
  {
   "cell_type": "code",
   "execution_count": 58,
   "id": "f2d27a69",
   "metadata": {},
   "outputs": [
    {
     "data": {
      "text/plain": [
       "{'count': 1204,\n",
       " '_shards': {'total': 1, 'successful': 1, 'skipped': 0, 'failed': 0}}"
      ]
     },
     "execution_count": 58,
     "metadata": {},
     "output_type": "execute_result"
    }
   ],
   "source": [
    "res = requests.get('http://localhost:9200/squad_docs/_count')\n",
    "\n",
    "res.json()"
   ]
  },
  {
   "cell_type": "markdown",
   "id": "supported-secret",
   "metadata": {},
   "source": [
    "Because we have changed the contents of our index, we initialize our retriever once more."
   ]
  },
  {
   "cell_type": "code",
   "execution_count": 59,
   "id": "conditional-sweden",
   "metadata": {},
   "outputs": [
    {
     "name": "stderr",
     "output_type": "stream",
     "text": [
      "/Users/bpakra200/opt/anaconda3/envs/drexel/lib/python3.10/site-packages/elasticsearch/connection/base.py:200: ElasticsearchWarning: Elasticsearch built-in security features are not enabled. Without authentication, your cluster could be accessible to anyone. See https://www.elastic.co/guide/en/elasticsearch/reference/7.17/security-minimal-setup.html to enable security.\n",
      "  warnings.warn(message, category=ElasticsearchWarning)\n"
     ]
    }
   ],
   "source": [
    "retriever = TfidfRetriever(document_store)"
   ]
  },
  {
   "cell_type": "markdown",
   "id": "available-flash",
   "metadata": {},
   "source": [
    "And this time we see that our retriever found *1204* documents (much less than the *16209* we found before). Now it's time to query our data again!"
   ]
  },
  {
   "cell_type": "code",
   "execution_count": 62,
   "id": "cardiovascular-skating",
   "metadata": {},
   "outputs": [
    {
     "data": {
      "text/plain": [
       "[<Document: {'content': 'Even though some proofs of complexity-theoretic theorems regularly assume some concrete choice of input encoding, one tries to keep the discussion abstract enough to be independent of the choice of encoding. This can be achieved by ensuring that different representations can be transformed into each other efficiently.', 'content_type': 'text', 'score': 0.7329360380503047, 'meta': {}, 'id_hash_keys': ['content'], 'embedding': None, 'id': 'fdafa6182e072da1f6005c49f858c175'}>,\n",
       " <Document: {'content': 'A computational problem can be viewed as an infinite collection of instances together with a solution for every instance. The input string for a computational problem is referred to as a problem instance, and should not be confused with the problem itself. In computational complexity theory, a problem refers to the abstract question to be solved. In contrast, an instance of this problem is a rather concrete utterance, which can serve as the input for a decision problem. For example, consider the problem of primality testing. The instance is a number (e.g. 15) and the solution is \"yes\" if the number is prime and \"no\" otherwise (in this case \"no\"). Stated another way, the instance is a particular input to the problem, and the solution is the output corresponding to the given input.', 'content_type': 'text', 'score': 0.7168560824162143, 'meta': {}, 'id_hash_keys': ['content'], 'embedding': None, 'id': '6475dc896c098df79cbbe73c2f4b183d'}>,\n",
       " <Document: {'content': 'A deterministic Turing machine is the most basic Turing machine, which uses a fixed set of rules to determine its future actions. A probabilistic Turing machine is a deterministic Turing machine with an extra supply of random bits. The ability to make probabilistic decisions often helps algorithms solve problems more efficiently. Algorithms that use random bits are called randomized algorithms. A non-deterministic Turing machine is a deterministic Turing machine with an added feature of non-determinism, which allows a Turing machine to have multiple possible future actions from a given state. One way to view non-determinism is that the Turing machine branches into many possible computational paths at each step, and if it solves the problem in any of these branches, it is said to have solved the problem. Clearly, this model is not meant to be a physically realizable model, it is just a theoretically interesting abstract machine that gives rise to particularly interesting complexity classes. For examples, see non-deterministic algorithm.', 'content_type': 'text', 'score': 0.705369954591001, 'meta': {}, 'id_hash_keys': ['content'], 'embedding': None, 'id': '7548b7fce7050990a134ce44445026ce'}>,\n",
       " <Document: {'content': 'With modern insights into quantum mechanics and technology that can accelerate particles close to the speed of light, particle physics has devised a Standard Model to describe forces between particles smaller than atoms. The Standard Model predicts that exchanged particles called gauge bosons are the fundamental means by which forces are emitted and absorbed. Only four main interactions are known: in order of decreasing strength, they are: strong, electromagnetic, weak, and gravitational.:2–10:79 High-energy particle physics observations made during the 1970s and 1980s confirmed that the weak and electromagnetic forces are expressions of a more fundamental electroweak interaction.', 'content_type': 'text', 'score': 0.7052212742359505, 'meta': {}, 'id_hash_keys': ['content'], 'embedding': None, 'id': '828c018bed6be4ea72243b7af5130cb8'}>,\n",
       " <Document: {'content': 'Dynamic equilibrium was first described by Galileo who noticed that certain assumptions of Aristotelian physics were contradicted by observations and logic. Galileo realized that simple velocity addition demands that the concept of an \"absolute rest frame\" did not exist. Galileo concluded that motion in a constant velocity was completely equivalent to rest. This was contrary to Aristotle\\'s notion of a \"natural state\" of rest that objects with mass naturally approached. Simple experiments showed that Galileo\\'s understanding of the equivalence of constant velocity and rest were correct. For example, if a mariner dropped a cannonball from the crow\\'s nest of a ship moving at a constant velocity, Aristotelian physics would have the cannonball fall straight down while the ship moved beneath it. Thus, in an Aristotelian universe, the falling cannonball would land behind the foot of the mast of a moving ship. However, when this experiment is actually conducted, the cannonball always falls at the foot of the mast, as if the cannonball knows to travel with the ship despite being separated from it. Since there is no forward horizontal force being applied on the cannonball as it falls, the only conclusion left is that the cannonball continues to move with the same velocity as the boat as it falls. Thus, no force is required to keep the cannonball moving at the constant forward velocity.', 'content_type': 'text', 'score': 0.68968973013168, 'meta': {}, 'id_hash_keys': ['content'], 'embedding': None, 'id': 'e9b4a45fed9e32bcb1eb5aa7cb1cd837'}>,\n",
       " <Document: {'content': 'The notion \"force\" keeps its meaning in quantum mechanics, though one is now dealing with operators instead of classical variables and though the physics is now described by the Schrödinger equation instead of Newtonian equations. This has the consequence that the results of a measurement are now sometimes \"quantized\", i.e. they appear in discrete portions. This is, of course, difficult to imagine in the context of \"forces\". However, the potentials V(x,y,z) or fields, from which the forces generally can be derived, are treated similar to classical position variables, i.e., .', 'content_type': 'text', 'score': 0.6881510924281012, 'meta': {}, 'id_hash_keys': ['content'], 'embedding': None, 'id': 'cac0630683bf55c6f3a0968e92e79710'}>,\n",
       " <Document: {'content': 'The development of fundamental theories for forces proceeded along the lines of unification of disparate ideas. For example, Isaac Newton unified the force responsible for objects falling at the surface of the Earth with the force responsible for the orbits of celestial mechanics in his universal theory of gravitation. Michael Faraday and James Clerk Maxwell demonstrated that electric and magnetic forces were unified through one consistent theory of electromagnetism. In the 20th century, the development of quantum mechanics led to a modern understanding that the first three fundamental forces (all except gravity) are manifestations of matter (fermions) interacting by exchanging virtual particles called gauge bosons. This standard model of particle physics posits a similarity between the forces and led scientists to predict the unification of the weak and electromagnetic forces in electroweak theory subsequently confirmed by observation. The complete formulation of the standard model predicts an as yet unobserved Higgs mechanism, but observations such as neutrino oscillations indicate that the standard model is incomplete. A Grand Unified Theory allowing for the combination of the electroweak interaction with the strong force is held out as a possibility with candidate theories such as supersymmetry proposed to accommodate some of the outstanding unsolved problems in physics. Physicists are still attempting to develop self-consistent unification models that would combine all four fundamental interactions into a theory of everything. Einstein tried and failed at this endeavor, but currently the most popular approach to answering this question is string theory.:212–219', 'content_type': 'text', 'score': 0.6823407772868847, 'meta': {}, 'id_hash_keys': ['content'], 'embedding': None, 'id': 'd75f0925dca88d80bc176c8e6ac99de'}>,\n",
       " <Document: {'content': 'Subject Committees are established at the beginning of each parliamentary session, and again the members on each committee reflect the balance of parties across Parliament. Typically each committee corresponds with one (or more) of the departments (or ministries) of the Scottish Government. The current Subject Committees in the fourth Session are: Economy, Energy and Tourism; Education and Culture; Health and Sport; Justice; Local Government and Regeneration; Rural Affairs, Climate Change and Environment; Welfare Reform; and Infrastructure and Capital Investment.', 'content_type': 'text', 'score': 0.6817404079690633, 'meta': {}, 'id_hash_keys': ['content'], 'embedding': None, 'id': 'c11276654d094f408ab71779b84a2a21'}>,\n",
       " <Document: {'content': 'However, some computational problems are easier to analyze in terms of more unusual resources. For example, a non-deterministic Turing machine is a computational model that is allowed to branch out to check many different possibilities at once. The non-deterministic Turing machine has very little to do with how we physically want to compute algorithms, but its branching exactly captures many of the mathematical models we want to analyze, so that non-deterministic time is a very important resource in analyzing computational problems.', 'content_type': 'text', 'score': 0.6775114617437179, 'meta': {}, 'id_hash_keys': ['content'], 'embedding': None, 'id': '41356176d5b1625db5fea90286c3cf'}>,\n",
       " <Document: {'content': \"Newton's Second Law asserts the direct proportionality of acceleration to force and the inverse proportionality of acceleration to mass. Accelerations can be defined through kinematic measurements. However, while kinematics are well-described through reference frame analysis in advanced physics, there are still deep questions that remain as to what is the proper definition of mass. General relativity offers an equivalence between space-time and mass, but lacking a coherent theory of quantum gravity, it is unclear as to how or whether this connection is relevant on microscales. With some justification, Newton's second law can be taken as a quantitative definition of mass by writing the law as an equality; the relative units of force and mass then are fixed.\", 'content_type': 'text', 'score': 0.6773744944452036, 'meta': {}, 'id_hash_keys': ['content'], 'embedding': None, 'id': '979ba4d49a5db02ba94de24fbb62a4d6'}>]"
      ]
     },
     "execution_count": 62,
     "metadata": {},
     "output_type": "execute_result"
    }
   ],
   "source": [
    "retriever.retrieve(query)"
   ]
  },
  {
   "cell_type": "code",
   "execution_count": 65,
   "id": "6397dc83",
   "metadata": {},
   "outputs": [
    {
     "data": {
      "text/plain": [
       "[<Document: {'content': \"The Normans were in contact with England from an early date. Not only were their original Viking brethren still ravaging the English coasts, they occupied most of the important ports opposite England across the English Channel. This relationship eventually produced closer ties of blood through the marriage of Emma, sister of Duke Richard II of Normandy, and King Ethelred II of England. Because of this, Ethelred fled to Normandy in 1013, when he was forced from his kingdom by Sweyn Forkbeard. His stay in Normandy (until 1016) influenced him and his sons by Emma, who stayed in Normandy after Cnut the Great's conquest of the isle.\", 'content_type': 'text', 'score': 0.8395045765246445, 'meta': {}, 'id_hash_keys': ['content'], 'embedding': None, 'id': '9b09ebf4eb65bd2133a6374e1f5ef5a'}>,\n",
       " <Document: {'content': \"These attacks resonated with conservative Muslims and the problem did not go away with Saddam's defeat either, since American troops remained stationed in the kingdom, and a de facto cooperation with the Palestinian-Israeli peace process developed. Saudi Arabia attempted to compensate for its loss of prestige among these groups by repressing those domestic Islamists who attacked it (bin Laden being a prime example), and increasing aid to Islamic groups (Islamist madrassas around the world and even aiding some violent Islamist groups) that did not, but its pre-war influence on behalf of moderation was greatly reduced. One result of this was a campaign of attacks on government officials and tourists in Egypt, a bloody civil war in Algeria and Osama bin Laden's terror attacks climaxing in the 9/11 attack.\", 'content_type': 'text', 'score': 0.6825779594004966, 'meta': {}, 'id_hash_keys': ['content'], 'embedding': None, 'id': '781ed4312f8f4fdfc0d0a69c02171e2a'}>,\n",
       " <Document: {'content': \"Some elements of the Brotherhood, though perhaps against orders, did engage in violence against the government, and its founder Al-Banna was assassinated in 1949 in retaliation for the assassination of Egypt's premier Mahmud Fami Naqrashi three months earlier. The Brotherhood has suffered periodic repression in Egypt and has been banned several times, in 1948 and several years later following confrontations with Egyptian president Gamal Abdul Nasser, who jailed thousands of members for several years.\", 'content_type': 'text', 'score': 0.6825199823538376, 'meta': {}, 'id_hash_keys': ['content'], 'embedding': None, 'id': '95662c3baf9dc7c7a8ed27725025a8dd'}>,\n",
       " <Document: {'content': 'Some Huguenots settled in Bedfordshire, one of the main centres of the British lace industry at the time. Although 19th century sources have asserted that some of these refugees were lacemakers and contributed to the East Midlands lace industry, this is contentious. The only reference to immigrant lacemakers in this period is of twenty-five widows who settled in Dover, and there is no contemporary documentation to support there being Huguenot lacemakers in Bedfordshire. The implication that the style of lace known as \\'Bucks Point\\' demonstrates a Huguenot influence, being a \"combination of Mechlin patterns on Lille ground\", is fallacious: what is now known as Mechlin lace did not develop until first half of the eighteenth century and lace with Mechlin patterns and Lille ground did not appear until the end of the 18th century, when it was widely copied throughout Europe.', 'content_type': 'text', 'score': 0.6792984070680741, 'meta': {}, 'id_hash_keys': ['content'], 'embedding': None, 'id': '6d4a69af177880d9cde2cde8d4d3a6fd'}>,\n",
       " <Document: {'content': 'Most early Greeks did not even consider 1 to be a number, so they could not consider it to be a prime. By the Middle Ages and Renaissance many mathematicians included 1 as the first prime number. In the mid-18th century Christian Goldbach listed 1 as the first prime in his famous correspondence with Leonhard Euler -- who did not agree. In the 19th century many mathematicians still considered the number 1 to be a prime. For example, Derrick Norman Lehmer\\'s list of primes up to 10,006,721, reprinted as late as 1956, started with 1 as its first prime. Henri Lebesgue is said to be the last professional mathematician to call 1 prime. By the early 20th century, mathematicians began to accept that 1 is not a prime number, but rather forms its own special category as a \"unit\".', 'content_type': 'text', 'score': 0.6792984070680741, 'meta': {}, 'id_hash_keys': ['content'], 'embedding': None, 'id': '8b6407c0badac083d5a77b22cb245b78'}>,\n",
       " <Document: {'content': 'One theory is that, while disobedience may be helpful, any great amount of it would undermine the law by encouraging general disobedience which is neither conscientious nor of social benefit. Therefore, conscientious lawbreakers must be punished. Michael Bayles argues that if a person violates a law in order to create a test case as to the constitutionality of a law, and then wins his case, then that act did not constitute civil disobedience. It has also been argued that breaking the law for self-gratification, as in the case of a homosexual or cannabis user who does not direct his act at securing the repeal of amendment of the law, is not civil disobedience. Likewise, a protestor who attempts to escape punishment by committing the crime covertly and avoiding attribution, or by denying having committed the crime, or by fleeing the jurisdiction, is generally viewed as not being a civil disobedient.', 'content_type': 'text', 'score': 0.6678027801702683, 'meta': {}, 'id_hash_keys': ['content'], 'embedding': None, 'id': '923af1540c5d64f1c99ed5b5b4d6f110'}>,\n",
       " <Document: {'content': 'Before Rollo\\'s arrival, its populations did not differ from Picardy or the Île-de-France, which were considered \"Frankish\". Earlier Viking settlers had begun arriving in the 880s, but were divided between colonies in the east (Roumois and Pays de Caux) around the low Seine valley and in the west in the Cotentin Peninsula, and were separated by traditional pagii, where the population remained about the same with almost no foreign settlers. Rollo\\'s contingents who raided and ultimately settled Normandy and parts of the Atlantic coast included Danes, Norwegians, Norse–Gaels, Orkney Vikings, possibly Swedes, and Anglo-Danes from the English Danelaw under Norse control.', 'content_type': 'text', 'score': 0.6640611300882112, 'meta': {}, 'id_hash_keys': ['content'], 'embedding': None, 'id': 'd6dbd8c23f2a448377460839861b32c6'}>,\n",
       " <Document: {'content': 'The first Huguenots to leave France sought freedom from persecution in Switzerland and the Netherlands.[citation needed] A group of Huguenots was part of the French colonisers who arrived in Brazil in 1555 to found France Antarctique. A couple of ships with around 500 people arrived at the Guanabara Bay, present-day Rio de Janeiro, and settled in a small island. A fort, named Fort Coligny, was built to protect them from attack from the Portuguese troops and Brazilian Native Americans. It was an attempt to establish a French colony in South America. The fort was destroyed in 1560 by the Portuguese, who captured part of the Huguenots. The Portuguese threatened the prisoners with death if they did not convert to Catholicism. The Huguenots of Guanabara, as they are now known, produced a declaration of faith to express their beliefs to the Portuguese. This was their death sentence. This document, the Guanabara Confession of Faith, became the first Protestant confession of faith in the whole of the Americas.[citation needed]', 'content_type': 'text', 'score': 0.6588095121302591, 'meta': {}, 'id_hash_keys': ['content'], 'embedding': None, 'id': '29815c622e24cc0e3d9dfb3bcaa19b1c'}>,\n",
       " <Document: {'content': 'While the existence of these central government departments and the Six Ministries (which had been introduced since the Sui and Tang dynasties) gave a Sinicized image in the Yuan administration, the actual functions of these ministries also reflected how Mongolian priorities and policies reshaped and redirected those institutions. For example, the authority of the Yuan legal system, the Ministry of Justice, did not extend to legal cases involving Mongols and Semuren, who had separate courts of justice. Cases involving members of more than one ethnic group were decided by a mixed board consisting of Chinese and Mongols. Another example was the insignificance of the Ministry of War compared with native Chinese dynasties, as the real military authority in Yuan times resided in the Privy Council.', 'content_type': 'text', 'score': 0.6561137524330497, 'meta': {}, 'id_hash_keys': ['content'], 'embedding': None, 'id': 'df37fc6139747512bff7661575bb52b'}>,\n",
       " <Document: {'content': 'The steam engine contributed much to the development of thermodynamic theory; however, the only applications of scientific theory that influenced the steam engine were the original concepts of harnessing the power of steam and atmospheric pressure and knowledge of properties of heat and steam. The experimental measurements made by Watt on a model steam engine led to the development of the separate condenser. Watt independently discovered latent heat, which was confirmed by the original discoverer Joseph Black, who also advised Watt on experimental procedures. Watt was also aware of the change in the boiling point of water with pressure. Otherwise, the improvements to the engine itself were more mechanical in nature. The thermodynamic concepts of the Rankine cycle did give engineers the understanding needed to calculate efficiency which aided the development of modern high-pressure and -temperature boilers and the steam turbine.', 'content_type': 'text', 'score': 0.6488759691639231, 'meta': {}, 'id_hash_keys': ['content'], 'embedding': None, 'id': '631a14f95a1093c6b0dfdd2d349e7612'}>]"
      ]
     },
     "execution_count": 65,
     "metadata": {},
     "output_type": "execute_result"
    }
   ],
   "source": [
    "query=\"Who did Emma Marry?\"\n",
    "retriever.retrieve(query)"
   ]
  },
  {
   "attachments": {},
   "cell_type": "markdown",
   "id": "still-morrison",
   "metadata": {},
   "source": [
    "Now we're returning a set of relevant documents, without duplicates.\n",
    "\n",
    "Finally, let's return back to the other *sparse retriever* that we can use with Elasticsearch. We already used **TF-IDF**, by switching `TfidfRetriever` for `BM25Retriever` we can switch to the **BM25** algorithm, which is an *improved* version of **TF-IDF** and is recommended by Haystack.\n",
    "\n",
    "So, let's initialize that and make another query with it."
   ]
  },
  {
   "cell_type": "code",
   "execution_count": 66,
   "id": "coated-judges",
   "metadata": {},
   "outputs": [
    {
     "data": {
      "text/plain": [
       "[<Document: {'content': \"The Normans were in contact with England from an early date. Not only were their original Viking brethren still ravaging the English coasts, they occupied most of the important ports opposite England across the English Channel. This relationship eventually produced closer ties of blood through the marriage of Emma, sister of Duke Richard II of Normandy, and King Ethelred II of England. Because of this, Ethelred fled to Normandy in 1013, when he was forced from his kingdom by Sweyn Forkbeard. His stay in Normandy (until 1016) influenced him and his sons by Emma, who stayed in Normandy after Cnut the Great's conquest of the isle.\", 'content_type': 'text', 'score': 0.8210750391274714, 'meta': {}, 'id_hash_keys': ['content'], 'embedding': None, 'id': '9b09ebf4eb65bd2133a6374e1f5ef5a'}>,\n",
       " <Document: {'content': \"Some elements of the Brotherhood, though perhaps against orders, did engage in violence against the government, and its founder Al-Banna was assassinated in 1949 in retaliation for the assassination of Egypt's premier Mahmud Fami Naqrashi three months earlier. The Brotherhood has suffered periodic repression in Egypt and has been banned several times, in 1948 and several years later following confrontations with Egyptian president Gamal Abdul Nasser, who jailed thousands of members for several years.\", 'content_type': 'text', 'score': 0.6777399431217436, 'meta': {}, 'id_hash_keys': ['content'], 'embedding': None, 'id': '95662c3baf9dc7c7a8ed27725025a8dd'}>,\n",
       " <Document: {'content': \"These attacks resonated with conservative Muslims and the problem did not go away with Saddam's defeat either, since American troops remained stationed in the kingdom, and a de facto cooperation with the Palestinian-Israeli peace process developed. Saudi Arabia attempted to compensate for its loss of prestige among these groups by repressing those domestic Islamists who attacked it (bin Laden being a prime example), and increasing aid to Islamic groups (Islamist madrassas around the world and even aiding some violent Islamist groups) that did not, but its pre-war influence on behalf of moderation was greatly reduced. One result of this was a campaign of attacks on government officials and tourists in Egypt, a bloody civil war in Algeria and Osama bin Laden's terror attacks climaxing in the 9/11 attack.\", 'content_type': 'text', 'score': 0.6766790143236705, 'meta': {}, 'id_hash_keys': ['content'], 'embedding': None, 'id': '781ed4312f8f4fdfc0d0a69c02171e2a'}>,\n",
       " <Document: {'content': 'Some Huguenots settled in Bedfordshire, one of the main centres of the British lace industry at the time. Although 19th century sources have asserted that some of these refugees were lacemakers and contributed to the East Midlands lace industry, this is contentious. The only reference to immigrant lacemakers in this period is of twenty-five widows who settled in Dover, and there is no contemporary documentation to support there being Huguenot lacemakers in Bedfordshire. The implication that the style of lace known as \\'Bucks Point\\' demonstrates a Huguenot influence, being a \"combination of Mechlin patterns on Lille ground\", is fallacious: what is now known as Mechlin lace did not develop until first half of the eighteenth century and lace with Mechlin patterns and Lille ground did not appear until the end of the 18th century, when it was widely copied throughout Europe.', 'content_type': 'text', 'score': 0.6734866032182233, 'meta': {}, 'id_hash_keys': ['content'], 'embedding': None, 'id': '6d4a69af177880d9cde2cde8d4d3a6fd'}>,\n",
       " <Document: {'content': 'Most early Greeks did not even consider 1 to be a number, so they could not consider it to be a prime. By the Middle Ages and Renaissance many mathematicians included 1 as the first prime number. In the mid-18th century Christian Goldbach listed 1 as the first prime in his famous correspondence with Leonhard Euler -- who did not agree. In the 19th century many mathematicians still considered the number 1 to be a prime. For example, Derrick Norman Lehmer\\'s list of primes up to 10,006,721, reprinted as late as 1956, started with 1 as its first prime. Henri Lebesgue is said to be the last professional mathematician to call 1 prime. By the early 20th century, mathematicians began to accept that 1 is not a prime number, but rather forms its own special category as a \"unit\".', 'content_type': 'text', 'score': 0.6734866032182233, 'meta': {}, 'id_hash_keys': ['content'], 'embedding': None, 'id': '8b6407c0badac083d5a77b22cb245b78'}>,\n",
       " <Document: {'content': 'One theory is that, while disobedience may be helpful, any great amount of it would undermine the law by encouraging general disobedience which is neither conscientious nor of social benefit. Therefore, conscientious lawbreakers must be punished. Michael Bayles argues that if a person violates a law in order to create a test case as to the constitutionality of a law, and then wins his case, then that act did not constitute civil disobedience. It has also been argued that breaking the law for self-gratification, as in the case of a homosexual or cannabis user who does not direct his act at securing the repeal of amendment of the law, is not civil disobedience. Likewise, a protestor who attempts to escape punishment by committing the crime covertly and avoiding attribution, or by denying having committed the crime, or by fleeing the jurisdiction, is generally viewed as not being a civil disobedient.', 'content_type': 'text', 'score': 0.6647981197916467, 'meta': {}, 'id_hash_keys': ['content'], 'embedding': None, 'id': '923af1540c5d64f1c99ed5b5b4d6f110'}>,\n",
       " <Document: {'content': 'Before Rollo\\'s arrival, its populations did not differ from Picardy or the Île-de-France, which were considered \"Frankish\". Earlier Viking settlers had begun arriving in the 880s, but were divided between colonies in the east (Roumois and Pays de Caux) around the low Seine valley and in the west in the Cotentin Peninsula, and were separated by traditional pagii, where the population remained about the same with almost no foreign settlers. Rollo\\'s contingents who raided and ultimately settled Normandy and parts of the Atlantic coast included Danes, Norwegians, Norse–Gaels, Orkney Vikings, possibly Swedes, and Anglo-Danes from the English Danelaw under Norse control.', 'content_type': 'text', 'score': 0.6598546652093827, 'meta': {}, 'id_hash_keys': ['content'], 'embedding': None, 'id': 'd6dbd8c23f2a448377460839861b32c6'}>,\n",
       " <Document: {'content': 'The first Huguenots to leave France sought freedom from persecution in Switzerland and the Netherlands.[citation needed] A group of Huguenots was part of the French colonisers who arrived in Brazil in 1555 to found France Antarctique. A couple of ships with around 500 people arrived at the Guanabara Bay, present-day Rio de Janeiro, and settled in a small island. A fort, named Fort Coligny, was built to protect them from attack from the Portuguese troops and Brazilian Native Americans. It was an attempt to establish a French colony in South America. The fort was destroyed in 1560 by the Portuguese, who captured part of the Huguenots. The Portuguese threatened the prisoners with death if they did not convert to Catholicism. The Huguenots of Guanabara, as they are now known, produced a declaration of faith to express their beliefs to the Portuguese. This was their death sentence. This document, the Guanabara Confession of Faith, became the first Protestant confession of faith in the whole of the Americas.[citation needed]', 'content_type': 'text', 'score': 0.6560913782009364, 'meta': {}, 'id_hash_keys': ['content'], 'embedding': None, 'id': '29815c622e24cc0e3d9dfb3bcaa19b1c'}>,\n",
       " <Document: {'content': 'While the existence of these central government departments and the Six Ministries (which had been introduced since the Sui and Tang dynasties) gave a Sinicized image in the Yuan administration, the actual functions of these ministries also reflected how Mongolian priorities and policies reshaped and redirected those institutions. For example, the authority of the Yuan legal system, the Ministry of Justice, did not extend to legal cases involving Mongols and Semuren, who had separate courts of justice. Cases involving members of more than one ethnic group were decided by a mixed board consisting of Chinese and Mongols. Another example was the insignificance of the Ministry of War compared with native Chinese dynasties, as the real military authority in Yuan times resided in the Privy Council.', 'content_type': 'text', 'score': 0.6521511638670576, 'meta': {}, 'id_hash_keys': ['content'], 'embedding': None, 'id': 'df37fc6139747512bff7661575bb52b'}>,\n",
       " <Document: {'content': 'The steam engine contributed much to the development of thermodynamic theory; however, the only applications of scientific theory that influenced the steam engine were the original concepts of harnessing the power of steam and atmospheric pressure and knowledge of properties of heat and steam. The experimental measurements made by Watt on a model steam engine led to the development of the separate condenser. Watt independently discovered latent heat, which was confirmed by the original discoverer Joseph Black, who also advised Watt on experimental procedures. Watt was also aware of the change in the boiling point of water with pressure. Otherwise, the improvements to the engine itself were more mechanical in nature. The thermodynamic concepts of the Rankine cycle did give engineers the understanding needed to calculate efficiency which aided the development of modern high-pressure and -temperature boilers and the steam turbine.', 'content_type': 'text', 'score': 0.6451334062018853, 'meta': {}, 'id_hash_keys': ['content'], 'embedding': None, 'id': '631a14f95a1093c6b0dfdd2d349e7612'}>]"
      ]
     },
     "execution_count": 66,
     "metadata": {},
     "output_type": "execute_result"
    }
   ],
   "source": [
    "# import BM25 retriever\n",
    "from haystack.nodes import BM25Retriever\n",
    "\n",
    "# intialize\n",
    "retriever = BM25Retriever(document_store)\n",
    "\n",
    "# and query\n",
    "retriever.retrieve(query)"
   ]
  }
 ],
 "metadata": {
  "kernelspec": {
   "display_name": "drexel",
   "language": "python",
   "name": "python3"
  },
  "language_info": {
   "codemirror_mode": {
    "name": "ipython",
    "version": 3
   },
   "file_extension": ".py",
   "mimetype": "text/x-python",
   "name": "python",
   "nbconvert_exporter": "python",
   "pygments_lexer": "ipython3",
   "version": "3.10.9"
  },
  "vscode": {
   "interpreter": {
    "hash": "d1c62caf0d8e3daabecad1cf875ca9b133b4283177045850286163472f05f21c"
   }
  }
 },
 "nbformat": 4,
 "nbformat_minor": 5
}

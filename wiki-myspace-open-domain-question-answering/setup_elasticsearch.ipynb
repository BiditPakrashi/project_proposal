{
 "cells": [
  {
   "attachments": {},
   "cell_type": "markdown",
   "metadata": {},
   "source": [
    "# Elasticsearch Setup\n",
    "\n",
    "For this project, we will be building an open-domain question answering system. There are three major components to such a system:\n",
    "\n",
    "* Database\n",
    "\n",
    "* Retriever\n",
    "\n",
    "* Reader\n",
    "\n",
    "In this notebook we will setup the first part, the *database* - where we will be using Elasticsearch.\n",
    "\n",
    "Before creating our Elasticsearch index, we need to load our data. We will use clean data from https://harrypotter.fandom.com/wiki/Main_Page"
   ]
  },
  {
   "attachments": {},
   "cell_type": "markdown",
   "metadata": {},
   "source": [
    "### Elactric search setup here \n",
    "\n",
    "https://www.elastic.co/guide/en/elasticsearch/reference/7.17/targz.html"
   ]
  },
  {
   "cell_type": "code",
   "execution_count": 58,
   "metadata": {},
   "outputs": [],
   "source": [
    "import requests"
   ]
  },
  {
   "cell_type": "code",
   "execution_count": 73,
   "metadata": {},
   "outputs": [],
   "source": [
    "from haystack.utils import clean_wiki_text\n",
    "import PyPDF2\n",
    "pdfFileObj = open('./data/aiqrunbook.pdf', 'rb')\n",
    "pdfReader = PyPDF2.PdfFileReader(pdfFileObj)\n",
    "count = pdfReader.numPages\n",
    "output = []\n",
    "for i in range(count):\n",
    "        page = pdfReader.getPage(i)\n",
    "        contents = (page.extractText())\n",
    "        para = contents.split('\\n')\n",
    "        output.extend(para)"
   ]
  },
  {
   "cell_type": "code",
   "execution_count": 74,
   "metadata": {},
   "outputs": [
    {
     "data": {
      "text/plain": [
       "['Comcast Confidential - Any unauthorized disclosure or use is strictly prohibited',\n",
       " 'Comcast Confidential - Any unauthorized disclosure or use is strictly prohibited1.  AIQ Platform Failure Scenarios  . . . . . . . . . . . . . . . . . . . . . . . . . . . . . . . . . . . . . . . . . . . . . . . . . . . . . . . . . . . . . . . . . . . . . . . . . . . . . . . . . . .  2',\n",
       " '1.1  AIQ Production - CRDB Failure Scenarios  . . . . . . . . . . . . . . . . . . . . . . . . . . . . . . . . . . . . . . . . . . . . . . . . . . . . . . . . . . . . . . . . . . . . . .  3']"
      ]
     },
     "execution_count": 74,
     "metadata": {},
     "output_type": "execute_result"
    }
   ],
   "source": [
    "output[:3]"
   ]
  },
  {
   "cell_type": "markdown",
   "metadata": {},
   "source": [
    "Now we can move onto setting up an index in elasticsearch. Let's confirm Elasticsearch is up and running."
   ]
  },
  {
   "cell_type": "code",
   "execution_count": 84,
   "metadata": {},
   "outputs": [
    {
     "data": {
      "text/plain": [
       "{'cluster_name': 'elasticsearch',\n",
       " 'status': 'yellow',\n",
       " 'timed_out': False,\n",
       " 'number_of_nodes': 1,\n",
       " 'number_of_data_nodes': 1,\n",
       " 'active_primary_shards': 7,\n",
       " 'active_shards': 7,\n",
       " 'relocating_shards': 0,\n",
       " 'initializing_shards': 0,\n",
       " 'unassigned_shards': 4,\n",
       " 'delayed_unassigned_shards': 0,\n",
       " 'number_of_pending_tasks': 0,\n",
       " 'number_of_in_flight_fetch': 0,\n",
       " 'task_max_waiting_in_queue_millis': 0,\n",
       " 'active_shards_percent_as_number': 63.63636363636363}"
      ]
     },
     "execution_count": 84,
     "metadata": {},
     "output_type": "execute_result"
    }
   ],
   "source": [
    "requests.get('http://localhost:9200/_cluster/health').json()"
   ]
  },
  {
   "cell_type": "markdown",
   "metadata": {},
   "source": [
    "And check currently active indices."
   ]
  },
  {
   "cell_type": "code",
   "execution_count": 76,
   "metadata": {},
   "outputs": [
    {
     "name": "stdout",
     "output_type": "stream",
     "text": [
      "yellow open myspace          8MD8-BrhRQiMcy5Ijh5KMQ 1 1  7 0 47.8kb 47.8kb\n",
      "green  open .geoip_databases _ZyZk81hRuGagoxe3hFqrA 1 0 42 0 40.6mb 40.6mb\n",
      "yellow open aiqrunbook       CK-BlBHuSY62eiDmqH98kA 1 1 29 0 55.2kb 55.2kb\n",
      "yellow open label            kXxpF1SPQKqH5J3XpS20SA 1 1  0 0   226b   226b\n",
      "yellow open opennlp          x3yf2sDBQRe0WCarTGthaQ 1 1 35 0 67.7kb 67.7kb\n",
      "\n"
     ]
    }
   ],
   "source": [
    "print(requests.get('http://localhost:9200/_cat/indices').text)"
   ]
  },
  {
   "attachments": {},
   "cell_type": "markdown",
   "metadata": {},
   "source": [
    "Now let's initialize a new index *meditation* which we will use to store our *Meditations* dataset."
   ]
  },
  {
   "cell_type": "code",
   "execution_count": 77,
   "metadata": {},
   "outputs": [
    {
     "name": "stderr",
     "output_type": "stream",
     "text": [
      "/Users/bpakra200/opt/anaconda3/envs/drexel/lib/python3.10/site-packages/elasticsearch/connection/base.py:200: ElasticsearchWarning: Elasticsearch built-in security features are not enabled. Without authentication, your cluster could be accessible to anyone. See https://www.elastic.co/guide/en/elasticsearch/reference/7.17/security-minimal-setup.html to enable security.\n",
      "  warnings.warn(message, category=ElasticsearchWarning)\n"
     ]
    }
   ],
   "source": [
    "from haystack.document_stores.elasticsearch import ElasticsearchDocumentStore\n",
    "\n",
    "doc_store = ElasticsearchDocumentStore(\n",
    "    host='localhost',\n",
    "    username='', password='',\n",
    "    index='aiqrunbook'\n",
    ")"
   ]
  },
  {
   "cell_type": "code",
   "execution_count": 78,
   "metadata": {},
   "outputs": [
    {
     "name": "stdout",
     "output_type": "stream",
     "text": [
      "yellow open myspace          8MD8-BrhRQiMcy5Ijh5KMQ 1 1  7 0 47.8kb 47.8kb\n",
      "green  open .geoip_databases _ZyZk81hRuGagoxe3hFqrA 1 0 42 0 40.6mb 40.6mb\n",
      "yellow open aiqrunbook       CK-BlBHuSY62eiDmqH98kA 1 1 29 0 55.2kb 55.2kb\n",
      "yellow open label            kXxpF1SPQKqH5J3XpS20SA 1 1  0 0   226b   226b\n",
      "yellow open opennlp          x3yf2sDBQRe0WCarTGthaQ 1 1 35 0 67.7kb 67.7kb\n",
      "\n"
     ]
    }
   ],
   "source": [
    "print(requests.get('http://localhost:9200/_cat/indices').text)"
   ]
  },
  {
   "attachments": {},
   "cell_type": "markdown",
   "metadata": {},
   "source": [
    "Now we need to format our data into a list of dictionaries before passing it along to Elasticsearch. We will create the format:\n",
    "\n",
    "```json\n",
    "{\n",
    "    'content': '<paragraph>',\n",
    "    'meta': {\n",
    "        'source': 'meditations'\n",
    "    }\n",
    "}\n",
    "```"
   ]
  },
  {
   "cell_type": "code",
   "execution_count": 79,
   "metadata": {},
   "outputs": [],
   "source": [
    "data_json = [\n",
    "    {\n",
    "        'content': clean_wiki_text(paragraph),\n",
    "        'meta': {\n",
    "            'source': 'aiqrunbook'\n",
    "        }\n",
    "    } for paragraph in output\n",
    "]"
   ]
  },
  {
   "cell_type": "code",
   "execution_count": 80,
   "metadata": {},
   "outputs": [
    {
     "data": {
      "text/plain": [
       "[{'content': 'Comcast Confidential - Any unauthorized disclosure or use is strictly prohibited',\n",
       "  'meta': {'source': 'aiqrunbook'}},\n",
       " {'content': 'Comcast Confidential - Any unauthorized disclosure or use is strictly prohibited1.  AIQ Platform Failure Scenarios  . . . . . . . . . . . . . . . . . . . . . . . . . . . . . . . . . . . . . . . . . . . . . . . . . . . . . . . . . . . . . . . . . . . . . . . . . . . . . . . . . . .  2',\n",
       "  'meta': {'source': 'aiqrunbook'}},\n",
       " {'content': '1.1  AIQ Production - CRDB Failure Scenarios  . . . . . . . . . . . . . . . . . . . . . . . . . . . . . . . . . . . . . . . . . . . . . . . . . . . . . . . . . . . . . . . . . . . . . .  3',\n",
       "  'meta': {'source': 'aiqrunbook'}}]"
      ]
     },
     "execution_count": 80,
     "metadata": {},
     "output_type": "execute_result"
    }
   ],
   "source": [
    "data_json[:3]"
   ]
  },
  {
   "cell_type": "code",
   "execution_count": 81,
   "metadata": {},
   "outputs": [
    {
     "data": {
      "text/plain": [
       "838"
      ]
     },
     "execution_count": 81,
     "metadata": {},
     "output_type": "execute_result"
    }
   ],
   "source": [
    "len(data_json)"
   ]
  },
  {
   "cell_type": "markdown",
   "metadata": {},
   "source": [
    "Now we simply write our data to Elasticsearch."
   ]
  },
  {
   "cell_type": "code",
   "execution_count": 82,
   "metadata": {},
   "outputs": [],
   "source": [
    "doc_store.write_documents(data_json)"
   ]
  },
  {
   "attachments": {},
   "cell_type": "markdown",
   "metadata": {},
   "source": [
    "And confirm that we have uploaded *13674* items."
   ]
  },
  {
   "cell_type": "code",
   "execution_count": 83,
   "metadata": {},
   "outputs": [
    {
     "data": {
      "text/plain": [
       "{'count': 486,\n",
       " '_shards': {'total': 1, 'successful': 1, 'skipped': 0, 'failed': 0}}"
      ]
     },
     "execution_count": 83,
     "metadata": {},
     "output_type": "execute_result"
    }
   ],
   "source": [
    "requests.get('http://localhost:9200/aiqrunbook/_count').json()"
   ]
  },
  {
   "cell_type": "markdown",
   "metadata": {},
   "source": [
    "Perfect!"
   ]
  }
 ],
 "metadata": {
  "kernelspec": {
   "display_name": "drexel",
   "language": "python",
   "name": "python3"
  },
  "language_info": {
   "codemirror_mode": {
    "name": "ipython",
    "version": 3
   },
   "file_extension": ".py",
   "mimetype": "text/x-python",
   "name": "python",
   "nbconvert_exporter": "python",
   "pygments_lexer": "ipython3",
   "version": "3.10.9"
  }
 },
 "nbformat": 4,
 "nbformat_minor": 4
}

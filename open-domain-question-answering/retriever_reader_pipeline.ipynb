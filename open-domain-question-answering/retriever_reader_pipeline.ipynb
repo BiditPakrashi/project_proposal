{
 "cells": [
  {
   "cell_type": "markdown",
   "metadata": {},
   "source": [
    "# Retriever Reader Pipeline\n",
    "\n",
    "We've setup our Elasticsearch instance and are now ready to prepare the remainder of our ODQA pipeline - our *retriever* and *reader*.\n",
    "\n",
    "First we initialize the connection to our Elasticsearch document store."
   ]
  },
  {
   "cell_type": "code",
   "execution_count": 3,
   "metadata": {},
   "outputs": [
    {
     "name": "stderr",
     "output_type": "stream",
     "text": [
      "/Users/bpakra200/opt/anaconda3/envs/drexel/lib/python3.10/site-packages/elasticsearch/connection/base.py:200: ElasticsearchWarning: Elasticsearch built-in security features are not enabled. Without authentication, your cluster could be accessible to anyone. See https://www.elastic.co/guide/en/elasticsearch/reference/7.17/security-minimal-setup.html to enable security.\n",
      "  warnings.warn(message, category=ElasticsearchWarning)\n"
     ]
    }
   ],
   "source": [
    "from haystack.document_stores.elasticsearch import ElasticsearchDocumentStore\n",
    "\n",
    "doc_store = ElasticsearchDocumentStore(\n",
    "    host='localhost',\n",
    "    username='', password='',\n",
    "    index='meditation'\n",
    ")"
   ]
  },
  {
   "cell_type": "markdown",
   "metadata": {},
   "source": [
    "Then we initialize our retriever and reader models. We will be using [deepset/bert-base-cased-squad2](https://huggingface.co/deepset/bert-base-cased-squad2) as our reader model."
   ]
  },
  {
   "cell_type": "code",
   "execution_count": 6,
   "metadata": {},
   "outputs": [
    {
     "data": {
      "text/plain": [
       "['Answer',\n",
       " 'BaseComponent',\n",
       " 'Document',\n",
       " 'EvaluationResult',\n",
       " 'Label',\n",
       " 'ModuleType',\n",
       " 'MultiLabel',\n",
       " 'Pipeline',\n",
       " 'Span',\n",
       " 'Union',\n",
       " '__annotations__',\n",
       " '__builtins__',\n",
       " '__cached__',\n",
       " '__doc__',\n",
       " '__file__',\n",
       " '__loader__',\n",
       " '__name__',\n",
       " '__package__',\n",
       " '__path__',\n",
       " '__spec__',\n",
       " '__version__',\n",
       " 'document_stores',\n",
       " 'environment',\n",
       " 'errors',\n",
       " 'logging',\n",
       " 'metadata',\n",
       " 'modeling',\n",
       " 'nodes',\n",
       " 'pd',\n",
       " 'pipelines',\n",
       " 'schema',\n",
       " 'set_pytorch_secure_model_loading',\n",
       " 'telemetry',\n",
       " 'utils']"
      ]
     },
     "execution_count": 6,
     "metadata": {},
     "output_type": "execute_result"
    }
   ],
   "source": [
    "import haystack\n",
    "dir(haystack)"
   ]
  },
  {
   "cell_type": "code",
   "execution_count": 4,
   "metadata": {},
   "outputs": [
    {
     "name": "stderr",
     "output_type": "stream",
     "text": [
      "WARNING:haystack.nodes.retriever.sparse:This class is now deprecated. Please use the BM25Retriever instead\n"
     ]
    }
   ],
   "source": [
    "from haystack.nodes import ElasticsearchRetriever\n",
    "from haystack.nodes import FARMReader\n",
    "\n",
    "retriever = ElasticsearchRetriever(doc_store)  # BM25\n",
    "reader = FARMReader(model_name_or_path='deepset/bert-base-cased-squad2',\n",
    "                    context_window_size=1500,\n",
    "                    use_gpu=True)"
   ]
  },
  {
   "cell_type": "markdown",
   "metadata": {},
   "source": [
    "And now we initialize our ODQA pipeline."
   ]
  },
  {
   "cell_type": "code",
   "execution_count": 5,
   "metadata": {},
   "outputs": [],
   "source": [
    "from haystack.pipelines import ExtractiveQAPipeline\n",
    "\n",
    "qa = ExtractiveQAPipeline(reader=reader, retriever=retriever)"
   ]
  },
  {
   "cell_type": "markdown",
   "metadata": {},
   "source": [
    "Now we can begin asking questions!"
   ]
  },
  {
   "cell_type": "code",
   "execution_count": 6,
   "metadata": {
    "scrolled": true
   },
   "outputs": [
    {
     "name": "stderr",
     "output_type": "stream",
     "text": [
      "Inferencing Samples:   0%|          | 0/1 [00:00<?, ? Batches/s]"
     ]
    },
    {
     "name": "stdout",
     "output_type": "stream",
     "text": [
      "huggingface/tokenizers: The current process just got forked, after parallelism has already been used. Disabling parallelism to avoid deadlocks...\n",
      "To disable this warning, you can either:\n",
      "\t- Avoid using `tokenizers` before the fork if possible\n",
      "\t- Explicitly set the environment variable TOKENIZERS_PARALLELISM=(true | false)\n"
     ]
    },
    {
     "name": "stderr",
     "output_type": "stream",
     "text": [
      "Inferencing Samples: 100%|██████████| 1/1 [00:03<00:00,  3.09s/ Batches]\n"
     ]
    },
    {
     "data": {
      "text/plain": [
       "{'query': 'What did your grandfather teach?',\n",
       " 'no_ans_gap': -3.1212544441223145,\n",
       " 'answers': [<Answer {'answer': 'good morals and the government of my temper', 'type': 'extractive', 'score': 0.1665751039981842, 'context': 'From my grandfather Verus I learned good morals and the government of my temper.', 'offsets_in_document': [{'start': 36, 'end': 79}], 'offsets_in_context': [{'start': 36, 'end': 79}], 'document_ids': ['ecc466cb76ed8dedab8752cc84e411b4'], 'meta': {'source': 'meditations'}}>,\n",
       "  <Answer {'answer': 'thy life under thy mother', 'type': 'extractive', 'score': 0.024128641933202744, 'context': 'Termination of activity, cessation from movement and opinion, and in a sense their death, is no evil. Turn thy thoughts now to the consideration of thy life, thy life as a child, as a youth, thy manhood, thy old age, for in these also every change was a death. Is this anything to fear? Turn thy thoughts now to thy life under thy grandfather, then to thy life under thy mother, then to thy life under thy father; and as thou findest many other differences and changes and terminations, ask thyself, Is this anything to fear? In like manner, then, neither are the termination and cessation and change of thy whole life a thing to be afraid of.', 'offsets_in_document': [{'start': 352, 'end': 377}], 'offsets_in_context': [{'start': 352, 'end': 377}], 'document_ids': ['c18a0187633896c0b4275e044bf742ee'], 'meta': {'source': 'meditations'}}>,\n",
       "  <Answer {'answer': 'good teachers', 'type': 'extractive', 'score': 0.011039153672754765, 'context': 'From my great-grandfather, not to have frequented public schools, and to have had good teachers at home, and to know that on such things a man should spend liberally.', 'offsets_in_document': [{'start': 82, 'end': 95}], 'offsets_in_context': [{'start': 82, 'end': 95}], 'document_ids': ['366d76bbaee1f45066c8986efe265a0b'], 'meta': {'source': 'meditations'}}>,\n",
       "  <Answer {'answer': 'self-government', 'type': 'extractive', 'score': 0.0040115974843502045, 'context': 'From Maximus I learned self-government, and not to be led aside by anything; and cheerfulness in all circumstances, as well as in illness; and a just admixture in the moral character of sweetness and dignity, and to do what was set before me without complaining. I observed that everybody believed that he thought as he spoke, and that in all that he did he never had any bad intention; and he never showed amazement and surprise, and was never in a hurry, and never put off doing a thing, nor was perplexed nor dejected, nor did he ever laugh to disguise his vexation, nor, on the other hand, was he ever passionate or suspicious. He was accustomed to do acts of beneficence, and was ready to forgive, and was free from all falsehood; and he presented the appearance of a man who could not be diverted from right rather than of a man who had been improved. I observed, too, that no man could ever think that he was despised by Maximus, or ever venture to think himself a better man. He had also the art of being humorous in an agreeable way.', 'offsets_in_document': [{'start': 23, 'end': 38}], 'offsets_in_context': [{'start': 23, 'end': 38}], 'document_ids': ['798a2fd2d075fe24606a777f348aca3d'], 'meta': {'source': 'meditations'}}>,\n",
       "  <Answer {'answer': 'Teach them then or bear', 'type': 'extractive', 'score': 0.003927576821297407, 'context': 'Men exist for the sake of one another. Teach them then or bear with them.', 'offsets_in_document': [{'start': 39, 'end': 62}], 'offsets_in_context': [{'start': 39, 'end': 62}], 'document_ids': ['2150cbb98d0d573101968513d7fb4af'], 'meta': {'source': 'meditations'}}>,\n",
       "  <Answer {'answer': 'to be themselves praised by posterity, by those whom they have never seen or ever will see, this they set much value on. But this is very much the same as if thou shouldst be grieved because those who have lived before thee did not praise thee', 'type': 'extractive', 'score': 0.000306869886117056, 'context': 'How strangely men act. They will not praise those who are living at the same time and living with themselves; but to be themselves praised by posterity, by those whom they have never seen or ever will see, this they set much value on. But this is very much the same as if thou shouldst be grieved because those who have lived before thee did not praise thee.', 'offsets_in_document': [{'start': 114, 'end': 357}], 'offsets_in_context': [{'start': 114, 'end': 357}], 'document_ids': ['3ea45896a0ea4ae48663003a48029424'], 'meta': {'source': 'meditations'}}>,\n",
       "  <Answer {'answer': 'philosophy', 'type': 'extractive', 'score': 0.0003028747742064297, 'context': 'Epicurus says, In my sickness my conversation was not about my bodily sufferings, nor, says he, did I talk on such subjects to those who visited me; but I continued to discourse on the nature of things as before, keeping to this main point, how the mind, while participating in such movements as go on in the poor flesh, shall be free from perturbations and maintain its proper good. Nor did I, he says, give the physicians an opportunity of putting on solemn looks, as if they were doing something great, but my life went on well and happily. Do, then, the same that he did both in sickness, if thou art sick, and in any other circumstances; for never to desert philosophy in any events that may befall us, nor to hold trifling talk either with an ignorant man or with one unacquainted with nature, is a principle of all schools of philosophy; but to be intent only on that which thou art now doing and on the instrument by which thou doest it.', 'offsets_in_document': [{'start': 663, 'end': 673}], 'offsets_in_context': [{'start': 663, 'end': 673}], 'document_ids': ['b88b5ac821f7c6a2ae636cce2d882f88'], 'meta': {'source': 'meditations'}}>,\n",
       "  <Answer {'answer': 'nature and profitable', 'type': 'extractive', 'score': 0.00016086404502857476, 'context': 'How cruel it is not to allow men to strive after the things which appear to them to be suitable to their nature and profitable! And yet in a manner thou dost not allow them to do this, when thou art vexed because they do wrong. For they are certainly moved towards things because they suppose them to be suitable to their nature and profitable to them.- But it is not so.- Teach them then, and show them without being angry.', 'offsets_in_document': [{'start': 105, 'end': 126}], 'offsets_in_context': [{'start': 105, 'end': 126}], 'document_ids': ['8149dd43100c073a25aeec95588ac011'], 'meta': {'source': 'meditations'}}>,\n",
       "  <Answer {'answer': 'foul smell and blood in a bag', 'type': 'extractive', 'score': 0.00011568669287953526, 'context': 'Does Panthea or Pergamus now sit by the tomb of Verus? Does Chaurias or Diotimus sit by the tomb of Hadrian? That would be ridiculous. Well, suppose they did sit there, would the dead be conscious of it? And if the dead were conscious, would they be pleased? And if they were pleased, would that make them immortal? Was it not in the order of destiny that these persons too should first become old women and old men and then die? What then would those do after these were dead? All this is foul smell and blood in a bag.', 'offsets_in_document': [{'start': 490, 'end': 519}], 'offsets_in_context': [{'start': 490, 'end': 519}], 'document_ids': ['dd42d5594f0dc8416537a3b3c1f1d61c'], 'meta': {'source': 'meditations'}}>,\n",
       "  <Answer {'answer': 'fig-tree to have juice', 'type': 'extractive', 'score': 5.674798012478277e-05, 'context': 'It is natural that these things should be done by such persons, it is a matter of necessity; and if a man will not have it so, he will not allow the fig-tree to have juice. But by all means bear this in mind, that within a very short time both thou and he will be dead; and soon not even your names will be left behind.', 'offsets_in_document': [{'start': 149, 'end': 171}], 'offsets_in_context': [{'start': 149, 'end': 171}], 'document_ids': ['c8f99a89c5399c2ad0a001747f8db0d1'], 'meta': {'source': 'meditations'}}>],\n",
       " 'documents': [<Document: {'content': 'Men exist for the sake of one another. Teach them then or bear with them.', 'content_type': 'text', 'score': 0.7322221779074343, 'meta': {'source': 'meditations'}, 'id_hash_keys': ['content'], 'embedding': None, 'id': '2150cbb98d0d573101968513d7fb4af'}>,\n",
       "  <Document: {'content': 'From my grandfather Verus I learned good morals and the government of my temper.', 'content_type': 'text', 'score': 0.7208915763758528, 'meta': {'source': 'meditations'}, 'id_hash_keys': ['content'], 'embedding': None, 'id': 'ecc466cb76ed8dedab8752cc84e411b4'}>,\n",
       "  <Document: {'content': 'From my great-grandfather, not to have frequented public schools, and to have had good teachers at home, and to know that on such things a man should spend liberally.', 'content_type': 'text', 'score': 0.7011058050766118, 'meta': {'source': 'meditations'}, 'id_hash_keys': ['content'], 'embedding': None, 'id': '366d76bbaee1f45066c8986efe265a0b'}>,\n",
       "  <Document: {'content': 'It is natural that these things should be done by such persons, it is a matter of necessity; and if a man will not have it so, he will not allow the fig-tree to have juice. But by all means bear this in mind, that within a very short time both thou and he will be dead; and soon not even your names will be left behind.', 'content_type': 'text', 'score': 0.6908060010236104, 'meta': {'source': 'meditations'}, 'id_hash_keys': ['content'], 'embedding': None, 'id': 'c8f99a89c5399c2ad0a001747f8db0d1'}>,\n",
       "  <Document: {'content': 'How cruel it is not to allow men to strive after the things which appear to them to be suitable to their nature and profitable! And yet in a manner thou dost not allow them to do this, when thou art vexed because they do wrong. For they are certainly moved towards things because they suppose them to be suitable to their nature and profitable to them.- But it is not so.- Teach them then, and show them without being angry.', 'content_type': 'text', 'score': 0.6661904567030548, 'meta': {'source': 'meditations'}, 'id_hash_keys': ['content'], 'embedding': None, 'id': '8149dd43100c073a25aeec95588ac011'}>,\n",
       "  <Document: {'content': 'Epicurus says, In my sickness my conversation was not about my bodily sufferings, nor, says he, did I talk on such subjects to those who visited me; but I continued to discourse on the nature of things as before, keeping to this main point, how the mind, while participating in such movements as go on in the poor flesh, shall be free from perturbations and maintain its proper good. Nor did I, he says, give the physicians an opportunity of putting on solemn looks, as if they were doing something great, but my life went on well and happily. Do, then, the same that he did both in sickness, if thou art sick, and in any other circumstances; for never to desert philosophy in any events that may befall us, nor to hold trifling talk either with an ignorant man or with one unacquainted with nature, is a principle of all schools of philosophy; but to be intent only on that which thou art now doing and on the instrument by which thou doest it.', 'content_type': 'text', 'score': 0.6510449397543675, 'meta': {'source': 'meditations'}, 'id_hash_keys': ['content'], 'embedding': None, 'id': 'b88b5ac821f7c6a2ae636cce2d882f88'}>,\n",
       "  <Document: {'content': 'From Maximus I learned self-government, and not to be led aside by anything; and cheerfulness in all circumstances, as well as in illness; and a just admixture in the moral character of sweetness and dignity, and to do what was set before me without complaining. I observed that everybody believed that he thought as he spoke, and that in all that he did he never had any bad intention; and he never showed amazement and surprise, and was never in a hurry, and never put off doing a thing, nor was perplexed nor dejected, nor did he ever laugh to disguise his vexation, nor, on the other hand, was he ever passionate or suspicious. He was accustomed to do acts of beneficence, and was ready to forgive, and was free from all falsehood; and he presented the appearance of a man who could not be diverted from right rather than of a man who had been improved. I observed, too, that no man could ever think that he was despised by Maximus, or ever venture to think himself a better man. He had also the art of being humorous in an agreeable way.', 'content_type': 'text', 'score': 0.6425392669963337, 'meta': {'source': 'meditations'}, 'id_hash_keys': ['content'], 'embedding': None, 'id': '798a2fd2d075fe24606a777f348aca3d'}>,\n",
       "  <Document: {'content': 'Does Panthea or Pergamus now sit by the tomb of Verus? Does Chaurias or Diotimus sit by the tomb of Hadrian? That would be ridiculous. Well, suppose they did sit there, would the dead be conscious of it? And if the dead were conscious, would they be pleased? And if they were pleased, would that make them immortal? Was it not in the order of destiny that these persons too should first become old women and old men and then die? What then would those do after these were dead? All this is foul smell and blood in a bag.', 'content_type': 'text', 'score': 0.6408262431774636, 'meta': {'source': 'meditations'}, 'id_hash_keys': ['content'], 'embedding': None, 'id': 'dd42d5594f0dc8416537a3b3c1f1d61c'}>,\n",
       "  <Document: {'content': 'Termination of activity, cessation from movement and opinion, and in a sense their death, is no evil. Turn thy thoughts now to the consideration of thy life, thy life as a child, as a youth, thy manhood, thy old age, for in these also every change was a death. Is this anything to fear? Turn thy thoughts now to thy life under thy grandfather, then to thy life under thy mother, then to thy life under thy father; and as thou findest many other differences and changes and terminations, ask thyself, Is this anything to fear? In like manner, then, neither are the termination and cessation and change of thy whole life a thing to be afraid of.', 'content_type': 'text', 'score': 0.6366416815738632, 'meta': {'source': 'meditations'}, 'id_hash_keys': ['content'], 'embedding': None, 'id': 'c18a0187633896c0b4275e044bf742ee'}>,\n",
       "  <Document: {'content': 'How strangely men act. They will not praise those who are living at the same time and living with themselves; but to be themselves praised by posterity, by those whom they have never seen or ever will see, this they set much value on. But this is very much the same as if thou shouldst be grieved because those who have lived before thee did not praise thee.', 'content_type': 'text', 'score': 0.6277992522181182, 'meta': {'source': 'meditations'}, 'id_hash_keys': ['content'], 'embedding': None, 'id': '3ea45896a0ea4ae48663003a48029424'}>],\n",
       " 'root_node': 'Query',\n",
       " 'params': {},\n",
       " 'node_id': 'Reader'}"
      ]
     },
     "execution_count": 6,
     "metadata": {},
     "output_type": "execute_result"
    }
   ],
   "source": [
    "qa.run(query='What did your grandfather teach?')"
   ]
  },
  {
   "cell_type": "code",
   "execution_count": 1,
   "metadata": {},
   "outputs": [
    {
     "ename": "NameError",
     "evalue": "name 'qa' is not defined",
     "output_type": "error",
     "traceback": [
      "\u001b[0;31m---------------------------------------------------------------------------\u001b[0m",
      "\u001b[0;31mNameError\u001b[0m                                 Traceback (most recent call last)",
      "Cell \u001b[0;32mIn[1], line 1\u001b[0m\n\u001b[0;32m----> 1\u001b[0m qa\u001b[39m.\u001b[39mrun(query\u001b[39m=\u001b[39m\u001b[39m'\u001b[39m\u001b[39mWhat is the Universe?\u001b[39m\u001b[39m'\u001b[39m,\n\u001b[1;32m      2\u001b[0m        params\u001b[39m=\u001b[39m{\u001b[39m\"\u001b[39m\u001b[39mRetriever\u001b[39m\u001b[39m\"\u001b[39m: {\u001b[39m\"\u001b[39m\u001b[39mtop_k\u001b[39m\u001b[39m\"\u001b[39m: \u001b[39m5\u001b[39m}, \u001b[39m\"\u001b[39m\u001b[39mReader\u001b[39m\u001b[39m\"\u001b[39m: {\u001b[39m\"\u001b[39m\u001b[39mtop_k\u001b[39m\u001b[39m\"\u001b[39m: \u001b[39m3\u001b[39m}})\n",
      "\u001b[0;31mNameError\u001b[0m: name 'qa' is not defined"
     ]
    }
   ],
   "source": [
    "qa.run(query='What is the Universe?',\n",
    "       params={\"Retriever\": {\"top_k\": 5}, \"Reader\": {\"top_k\": 3}})"
   ]
  },
  {
   "cell_type": "code",
   "execution_count": 14,
   "metadata": {},
   "outputs": [
    {
     "name": "stderr",
     "output_type": "stream",
     "text": [
      "Inferencing Samples: 100%|██████████| 1/1 [00:02<00:00,  2.67s/ Batches]\n"
     ]
    },
    {
     "data": {
      "text/plain": [
       "{'query': 'What is art?',\n",
       " 'no_ans_gap': 4.066236734390259,\n",
       " 'answers': [<Answer {'answer': 'To be good', 'type': 'extractive', 'score': 0.7172240018844604, 'context': 'What is thy art? To be good. And how is this accomplished well except by general principles, some about the nature of the universe, and others about the proper constitution of man?', 'offsets_in_document': [{'start': 17, 'end': 27}], 'offsets_in_context': [{'start': 17, 'end': 27}], 'document_ids': ['d82018bb6d9e387d13e62efe36f458c6'], 'meta': {'source': 'meditations'}}>,\n",
       "  <Answer {'answer': 'the acts of life', 'type': 'extractive', 'score': 0.5413747429847717, 'context': 'Let it make no difference to thee whether thou art cold or warm, if thou art doing thy duty; and whether thou art drowsy or satisfied with sleep; and whether ill-spoken of or praised; and whether dying or doing something else. For it is one of the acts of life, this act by which we die: it is sufficient then in this act also to do well what we have in hand.', 'offsets_in_document': [{'start': 244, 'end': 260}], 'offsets_in_context': [{'start': 244, 'end': 260}], 'document_ids': ['b2aab30edd46db70e9e898eecb2de061'], 'meta': {'source': 'meditations'}}>,\n",
       "  <Answer {'answer': 'money', 'type': 'extractive', 'score': 0.35745885968208313, 'context': \"When thou art offended at any man's fault, forthwith turn to thyself and reflect in what like manner thou dost err thyself; for example, in thinking that money is a good thing, or pleasure, or a bit of reputation, and the like. For by attending to this thou wilt quickly forget thy anger, if this consideration also is added, that the man is compelled: for what else could he do? or, if thou art able, take away from him the compulsion.\", 'offsets_in_document': [{'start': 154, 'end': 159}], 'offsets_in_context': [{'start': 154, 'end': 159}], 'document_ids': ['ebc74f761b8f9c9d91272e32736224d'], 'meta': {'source': 'meditations'}}>],\n",
       " 'documents': [<Document: {'content': 'Either all things proceed from one intelligent source and come together as in one body, and the part ought not to find fault with what is done for the benefit of the whole; or there are only atoms, and nothing else than mixture and dispersion. Why, then, art thou disturbed? Say to the ruling faculty, Art thou dead, art thou corrupted, art thou playing the hypocrite, art thou become a beast, dost thou herd and feed with the rest?', 'content_type': 'text', 'score': 0.6437801352289797, 'meta': {'source': 'meditations'}, 'id_hash_keys': ['content'], 'embedding': None, 'id': '125b27edef6454a6740ac9036d42d748'}>,\n",
       "  <Document: {'content': 'Let it make no difference to thee whether thou art cold or warm, if thou art doing thy duty; and whether thou art drowsy or satisfied with sleep; and whether ill-spoken of or praised; and whether dying or doing something else. For it is one of the acts of life, this act by which we die: it is sufficient then in this act also to do well what we have in hand.', 'content_type': 'text', 'score': 0.6389293957178719, 'meta': {'source': 'meditations'}, 'id_hash_keys': ['content'], 'embedding': None, 'id': 'b2aab30edd46db70e9e898eecb2de061'}>,\n",
       "  <Document: {'content': \"When thou art offended at any man's fault, forthwith turn to thyself and reflect in what like manner thou dost err thyself; for example, in thinking that money is a good thing, or pleasure, or a bit of reputation, and the like. For by attending to this thou wilt quickly forget thy anger, if this consideration also is added, that the man is compelled: for what else could he do? or, if thou art able, take away from him the compulsion.\", 'content_type': 'text', 'score': 0.638195306147741, 'meta': {'source': 'meditations'}, 'id_hash_keys': ['content'], 'embedding': None, 'id': 'ebc74f761b8f9c9d91272e32736224d'}>,\n",
       "  <Document: {'content': 'Eudaemonia (happiness) is a good daemon, or a good thing. What then art thou doing here, O imagination? Go away, I entreat thee by the gods, as thou didst come, for I want thee not. But thou art come according to thy old fashion. I am not angry with thee: only go away.', 'content_type': 'text', 'score': 0.6357531067109083, 'meta': {'source': 'meditations'}, 'id_hash_keys': ['content'], 'embedding': None, 'id': '412629757bc36aee1e597886866c661'}>,\n",
       "  <Document: {'content': 'This thou must always bear in mind, what is the nature of the whole, and what is my nature, and how this is related to that, and what kind of a part it is of what kind of a whole; and that there is no one who hinders thee from always doing and saying the things which are according to the nature of which thou art a part.', 'content_type': 'text', 'score': 0.6342889257626593, 'meta': {'source': 'meditations'}, 'id_hash_keys': ['content'], 'embedding': None, 'id': 'a30eabf5ca48a12da0931f41efde6402'}>,\n",
       "  <Document: {'content': 'What is thy art? To be good. And how is this accomplished well except by general principles, some about the nature of the universe, and others about the proper constitution of man?', 'content_type': 'text', 'score': 0.6339971989840243, 'meta': {'source': 'meditations'}, 'id_hash_keys': ['content'], 'embedding': None, 'id': 'd82018bb6d9e387d13e62efe36f458c6'}>,\n",
       "  <Document: {'content': \"Penetrate inwards into men's leading principles, and thou wilt see what judges thou art afraid of, and what kind of judges they are of themselves.\", 'content_type': 'text', 'score': 0.631946428913956, 'meta': {'source': 'meditations'}, 'id_hash_keys': ['content'], 'embedding': None, 'id': '54882f2d9a4f19417d272341437c93aa'}>,\n",
       "  <Document: {'content': 'Observe what thy nature requires, so far as thou art governed by nature only: then do it and accept it, if thy nature, so far as thou art a living being, shall not be made worse by it.', 'content_type': 'text', 'score': 0.6315240604531519, 'meta': {'source': 'meditations'}, 'id_hash_keys': ['content'], 'embedding': None, 'id': '55dd4d8cb78e0d6c58033018a20523f0'}>,\n",
       "  <Document: {'content': 'And next thou must observe what thy nature requires so far as thou art a living being. And all this thou mayest allow thyself, if thy nature, so far as thou art a rational animal, shall not be made worse by it. But the rational animal is consequently also a political (social) animal. Use these rules, then, and trouble thyself about nothing else.', 'content_type': 'text', 'score': 0.6314492146930177, 'meta': {'source': 'meditations'}, 'id_hash_keys': ['content'], 'embedding': None, 'id': 'bb549bda1912cd07c8428c7d6882ff91'}>,\n",
       "  <Document: {'content': 'Suppose any man shall despise me. Let him look to that himself. But I will look to this, that I be not discovered doing or saying anything deserving of contempt. Shall any man hate me? Let him look to it. But I will be mild and benevolent towards every man, and ready to show even him his mistake, not reproachfully, nor yet as making a display of my endurance, but nobly and honestly, like the great Phocion, unless indeed he only assumed it. For the interior parts ought to be such, and a man ought to be seen by the gods neither dissatisfied with anything nor complaining. For what evil is it to thee, if thou art now doing what is agreeable to thy own nature, and art satisfied with that which at this moment is suitable to the nature of the universe, since thou art a human being placed at thy post in order that what is for the common advantage may be done in some way?', 'content_type': 'text', 'score': 0.6289805857013065, 'meta': {'source': 'meditations'}, 'id_hash_keys': ['content'], 'embedding': None, 'id': 'b785e1fe40876e1b5b9a99b0f7cff3a0'}>],\n",
       " 'root_node': 'Query',\n",
       " 'params': {'Reader': {'top_k': 3}},\n",
       " 'node_id': 'Reader'}"
      ]
     },
     "execution_count": 14,
     "metadata": {},
     "output_type": "execute_result"
    }
   ],
   "source": [
    "qa.run(query='What is art?',\n",
    "       params={\"Reader\": {\"top_k\": 3}})"
   ]
  }
 ],
 "metadata": {
  "kernelspec": {
   "display_name": "drexel",
   "language": "python",
   "name": "python3"
  },
  "language_info": {
   "codemirror_mode": {
    "name": "ipython",
    "version": 3
   },
   "file_extension": ".py",
   "mimetype": "text/x-python",
   "name": "python",
   "nbconvert_exporter": "python",
   "pygments_lexer": "ipython3",
   "version": "3.10.9"
  }
 },
 "nbformat": 4,
 "nbformat_minor": 4
}
